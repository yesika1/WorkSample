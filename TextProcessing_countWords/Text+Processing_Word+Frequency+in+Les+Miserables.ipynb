{
 "cells": [
  {
   "cell_type": "markdown",
   "metadata": {},
   "source": [
    "## Text Processing: Word Frequency in Les Misérables"
   ]
  },
  {
   "cell_type": "markdown",
   "metadata": {},
   "source": [
    "<p> The following project consists on identify and visualize the word frequency distribution using Natural language processing tools to work with unstructured text data.<p> \n",
    "\n",
    "- First, scraping the novel <em>Les Misérables</em> from the website <a href=\"https://www.gutenberg.org/\"> Gutenberg.org </a>   using the request package.\n",
    "- Second, extracting text from this web data using <code>BeautifulSoup</code>. \n",
    "- Third, extracting tokens/words and clean data: removing inwanted characters, transforming tokens into lowercase and excluding stop words.\n",
    "- Finally, analyzing the distribution of words using the Natural Language ToolKit (<code>nltk</code>). "
   ]
  },
  {
   "cell_type": "markdown",
   "metadata": {},
   "source": [
    "Data Science pipeline:\n",
    "\n",
    "- State your question:\n",
    "- Get your data;\n",
    "- Wrangle your data to answer your question;\n",
    "- Answer your question;\n",
    "- Present your solution so that others can understand it."
   ]
  },
  {
   "cell_type": "markdown",
   "metadata": {},
   "source": [
    "## 1. State your question\n",
    "What are the most frequent words in the novel Les Misérables and how often do they occur?"
   ]
  },
  {
   "cell_type": "markdown",
   "metadata": {},
   "source": [
    "## 2. Import packages and load/scrape data\n",
    "\n",
    "Using the freely available online novels corpus at Project Gutenberg, we are going to store the URL in our Python namespace.\n",
    "To fetch the HTML file we're going to use the request package to make a GET request for the website, which means we're getting data from it directly into Python."
   ]
  },
  {
   "cell_type": "code",
   "execution_count": 2,
   "metadata": {
    "scrolled": true
   },
   "outputs": [
    {
     "name": "stdout",
     "output_type": "stream",
     "text": [
      "<?xml version=\"1.0\" encoding=\"utf-8\"?>\r\n",
      "\r\n",
      "<!DOCTYPE html\r\n",
      "   PUBLIC \"-//W3C//DTD XHTML 1.0 Strict//EN\"\r\n",
      "   \"http://www.w3.org/TR/xhtml1/DTD/xhtml1-strict.dtd\" >\r\n",
      "\r\n",
      "<html xmlns=\"http://www.w3.org/1999/\n"
     ]
    }
   ],
   "source": [
    "# Importing packages\n",
    "import requests # to fetch the html file that contains the book.\n",
    "from bs4 import BeautifulSoup # to extract the words from the html file.\n",
    "import nltk # to analyze the word frequencies.\n",
    "%matplotlib inline # command to display figures inline\n",
    "\n",
    "\n",
    "# Scrape the novel from the website using the Python package requests:\n",
    "url = 'https://www.gutenberg.org/files/135/135-h/135-h.htm'\n",
    "\n",
    "r = requests.get(url)\n",
    "\n",
    "#Setting the correct text encoding of the HTML page\n",
    "r.encoding = 'utf-8'\n",
    "\n",
    "type(r)\n",
    "\n",
    "# Extracting the HTML from the request object\n",
    "html = r.text\n",
    "#print(html)\n",
    "\n",
    "# Printing the first 2000 characters in html\n",
    "print(html[0:200])"
   ]
  },
  {
   "cell_type": "markdown",
   "metadata": {
    "collapsed": true
   },
   "source": [
    "## 3. Extract the text from the HTML object using beatiful soup\n",
    "\n",
    "The HTML file contain the text of the novel. We need to wrangle this HTML to extract the text of the novel using the package BeautifulSoup.\n",
    "After creating the soup, we can use its .get_text() method to extract the text."
   ]
  },
  {
   "cell_type": "code",
   "execution_count": 4,
   "metadata": {},
   "outputs": [
    {
     "name": "stdout",
     "output_type": "stream",
     "text": [
      "ch had been in circulation about him from the very moment when\n",
      "he arrived in the diocese. True or false, that which is said of men often\n",
      "occupies as important a place in their lives, and above all in their\n",
      "destinies, as that which they do. M. Myriel was the son of a councillor of\n",
      "the Parliament of Aix; hence he belonged to the nobility of the bar. It\n",
      "was said that his father, destining him to be the heir of his own post,\n",
      "had married him at a very early age, eighteen or twenty, in accordance\n",
      "with a custom which is rather widely prevalent in parliamentary families.\n",
      "In spite of this marriage, however, it was said that Charles Myriel\n",
      "created a great deal of talk. He was well formed, though rather short in\n",
      "stature, elegant, graceful, intelligent; the whole of the first portion of\n",
      "his life had been devoted to the world and to gallantry.\n",
      "\n",
      "\n",
      "The Revolution came; events succeeded each other with precipitation; the\n",
      "parliamentary families, decimated, pursued, hunted down, were dispersed.\n",
      "M. Charle\n"
     ]
    }
   ],
   "source": [
    "# Creating a BeautifulSoup object from the HTML\n",
    "soup = BeautifulSoup(html, \"html5lib\")\n",
    "type(soup)\n",
    "\n",
    "# Getting the text out of the soup\n",
    "text = soup.get_text()\n",
    "\n",
    "# Printing out text between characters 23000 and 24000\n",
    "print(text[23000:24000])"
   ]
  },
  {
   "cell_type": "markdown",
   "metadata": {},
   "source": [
    "## 4. Extract the words from the text object using nltk\n",
    "We now have the text of the novel, as a first approximation, we are leaving the appendix and another ndesired content. \n",
    "We are going to count how many times each word appears, and for this we'll use nltk – the Natural Language Toolkit. \n",
    "- We'll start by tokenizing the text, removing everything that isn't a word (whitespace, punctuation, etc.) \n",
    "- and then split the text into a list of words."
   ]
  },
  {
   "cell_type": "code",
   "execution_count": 5,
   "metadata": {},
   "outputs": [
    {
     "name": "stdout",
     "output_type": "stream",
     "text": [
      "['Les', 'Misérables', 'Five', 'Volumes', 'Complete', 'by', 'Victor', 'Hugo']\n"
     ]
    }
   ],
   "source": [
    "# Creating a tokenizer\n",
    "tokenizer = nltk.tokenize.RegexpTokenizer('\\w+')\n",
    "\n",
    "# '\\w+' will match arbitrary sequences of alphanumeric characters and underscores.\n",
    "# The '\\w' will match any alphanumeric A-z, a-z, 0-9, along with underscores.\n",
    "# The '+' tells you that the previous character in the regexp \n",
    "# can appear as many times as you want\n",
    "\n",
    "# Tokenizing the text\n",
    "tokens = tokenizer.tokenize(text)\n",
    "\n",
    "# Printing out the first 8 words / tokens \n",
    "print(tokens[0:8])"
   ]
  },
  {
   "cell_type": "markdown",
   "metadata": {},
   "source": [
    "## 5. Make the words lowercase for counting purposes\n",
    "We create a list of all words in which all capital letters have been made lower case, to count latter on same uppercase and lowercase word as one token.  "
   ]
  },
  {
   "cell_type": "code",
   "execution_count": 6,
   "metadata": {},
   "outputs": [
    {
     "name": "stdout",
     "output_type": "stream",
     "text": [
      "['les', 'misérables', 'five', 'volumes', 'complete', 'by', 'victor', 'hugo']\n"
     ]
    }
   ],
   "source": [
    "# A new list to hold the lowercased words\n",
    "words = []\n",
    "\n",
    "# Looping through the tokens and make them lower case\n",
    "for word in tokens:\n",
    "    words.append(word.lower())\n",
    "\n",
    "# Printing out the first 8 words / tokens \n",
    "print(words[:8])"
   ]
  },
  {
   "cell_type": "markdown",
   "metadata": {},
   "source": [
    "## 6. Excluding stop words from corpus\n",
    "Stopwords are common words that carry less important meaning than keywords. We are going to remove them from our corpus by storing a list of English words from the NLTK package."
   ]
  },
  {
   "cell_type": "code",
   "execution_count": 10,
   "metadata": {},
   "outputs": [
    {
     "name": "stdout",
     "output_type": "stream",
     "text": [
      "['i', 'me', 'my', 'myself', 'we', 'our', 'ours', 'ourselves']\n",
      "['les', 'misérables', 'five', 'volumes', 'complete']\n"
     ]
    }
   ],
   "source": [
    "# Getting the English stop words from nltk\n",
    "sw = nltk.corpus.stopwords.words('english')\n",
    "\n",
    "# Printing out the first eight stop words\n",
    "print(sw[:8])\n",
    "\n",
    "\n",
    "## Removing stop words from corpus\n",
    "\n",
    "# creating a new list with no stepwords\n",
    "words_ns = []\n",
    "\n",
    "# Appending to words_ns all words that are in words but not in sw\n",
    "for word in words:\n",
    "    if word not in sw:\n",
    "        words_ns.append(word)\n",
    "        \n",
    "\n",
    "# Printing the first 5 words_ns to check that stop words are gone\n",
    "print(words_ns[:5]) # 'by' has been removed from the sample"
   ]
  },
  {
   "cell_type": "markdown",
   "metadata": {},
   "source": [
    "## 7. Calculating the word frequency and plotting the top 25 words.\n",
    "\n",
    "We are going to create a word frequency distribution plot using nltk."
   ]
  },
  {
   "cell_type": "code",
   "execution_count": 13,
   "metadata": {},
   "outputs": [
    {
     "data": {
      "image/png": "[encoded data removed]",
      "text/plain": [
       "<matplotlib.figure.Figure at 0x1a201a9908>"
      ]
     },
     "metadata": {},
     "output_type": "display_data"
    }
   ],
   "source": [
    "# Creating the word frequency distribution\n",
    "freqdist = nltk.FreqDist(words_ns)\n",
    "freqdist\n",
    "\n",
    "# Plotting the word frequency distribution (25 most frequent words)\n",
    "freqdist.plot(25)"
   ]
  },
  {
   "cell_type": "code",
   "execution_count": 14,
   "metadata": {},
   "outputs": [
    {
     "name": "stdout",
     "output_type": "stream",
     "text": [
      "one\n"
     ]
    }
   ],
   "source": [
    "## The most common word\n",
    "\n",
    "# What's the most common word?\n",
    "most_common_word = freqdist.max()\n",
    "print(most_common_word) # one"
   ]
  }
 ],
 "metadata": {
  "kernelspec": {
   "display_name": "Python 3",
   "language": "python",
   "name": "python3"
  },
  "language_info": {
   "codemirror_mode": {
    "name": "ipython",
    "version": 3
   },
   "file_extension": ".py",
   "mimetype": "text/x-python",
   "name": "python",
   "nbconvert_exporter": "python",
   "pygments_lexer": "ipython3",
   "version": "3.6.3"
  }
 },
 "nbformat": 4,
 "nbformat_minor": 2
}
