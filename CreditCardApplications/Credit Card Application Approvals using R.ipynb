{
 "cells": [
  {
   "cell_type": "markdown",
   "metadata": {},
   "source": [
    "## Project: Credit Card Application Approvals using R\n",
    "This notebook contains a credit card approval predictor for commercial banks using machine learning techniques.\n",
    "\n",
    "\n",
    "### Dataset\n",
    "<p>For this project, the dataset  was extracted from the UCI Machine Learning Repository <a href=\"http://archive.ics.uci.edu/ml/datasets/credit+approval\">Credit Card Approval dataset</a>\n",
    "\n",
    "The dataset contains data for 690 customers that applied for credit with a retail bank. There are 16 attributes captured for each customer; including a decision flag which allows you to identify those customers which were approved and denied for credit.\n",
    "\n",
    "### Summary\n",
    "The analysis of this project consist on the creation of a model to evaluate the decision to approve or deny credit card applications. The final model created is a logarithmic regression model. This model was able to predict the outcome of a credit applications with 84% accuracy which was significantly better performance than the baseline model.\n",
    "\n",
    "As a conclusion, there are four drivers that possitively affect the approval decision, as these factors increase, so does the probability that a credit card will be issued.\n",
    "\n",
    "\n",
    "Applications can get rejected for many reasons, including, like high loan balances, low income levels, or too many inquiries on an individual's credit report, among others. The four influencing factors are:\n",
    "\n",
    "Prior default,\n",
    "Years employed,\n",
    "Credit score, and\n",
    "Income level.\n",
    "Other variables such as age, sex, or ethnicity did not have an influence on whether the application was denied. A Chi Squared test for independence validated our conclusion Ethnicity and Approval status are independent.\n",
    "\n",
    "\n",
    "### Notebook' structure\n",
    "<ul>The structure of this notebook is as follows:\n",
    "\n",
    "<li>First, loading and viewing the dataset.</li>\n",
    "<li>Second, preprocessing the dataset to ensure the machine learning model we choose can make good predictions.</li>\n",
    "<li>Third, doing some exploratory data analysis to build our intuitions.</li>\n",
    "<li>Finally, we will build a machine learning model using Logistic Regression that can predict if an individual's application for a credit card will be accepted.</li>"
   ]
  },
  {
   "cell_type": "markdown",
   "metadata": {},
   "source": [
    "## 1. Loading and viewing the dataset\n",
    "All attribute names and values have been changed to meaningless symbols to protect confidentiality of the data.\n",
    "This dataset is interesting because there is a good mix of attributes -- continuous, nominal with small numbers of values, and nominal with larger numbers of values.  \n",
    "There are also a few missing values.\n",
    "\n",
    "- Number of Instances: 690\n",
    "- Number of Attributes: 15 + class attribute\n",
    "- Class Distribution\n",
    "    +: 307 (44.5%)\n",
    "    -: 383 (55.5%)"
   ]
  },
  {
   "cell_type": "code",
   "execution_count": 1,
   "metadata": {},
   "outputs": [
    {
     "data": {
      "text/html": [
       "<table>\n",
       "<thead><tr><th></th><th scope=col>Gender</th><th scope=col>Age</th><th scope=col>Debt</th><th scope=col>Married</th><th scope=col>BankCustomer</th><th scope=col>EducationLevel</th><th scope=col>Ethnicity</th><th scope=col>YearsEmployed</th><th scope=col>PriorDefault</th><th scope=col>Employed</th><th scope=col>CreditScore</th><th scope=col>DriversLicense</th><th scope=col>Citizen</th><th scope=col>ZipCode</th><th scope=col>Income</th><th scope=col>ApprovalStatus</th></tr></thead>\n",
       "<tbody>\n",
       "\t<tr><th scope=row>674</th><td>?     </td><td>29.5  </td><td> 2.000</td><td>y     </td><td>p     </td><td>e     </td><td>h     </td><td>2.000 </td><td>f     </td><td>f     </td><td> 0    </td><td>f     </td><td>g     </td><td>256   </td><td> 17   </td><td>-     </td></tr>\n",
       "\t<tr><th scope=row>675</th><td>a     </td><td>37.33 </td><td> 2.500</td><td>u     </td><td>g     </td><td>i     </td><td>h     </td><td>0.210 </td><td>f     </td><td>f     </td><td> 0    </td><td>f     </td><td>g     </td><td>260   </td><td>246   </td><td>-     </td></tr>\n",
       "\t<tr><th scope=row>676</th><td>a     </td><td>41.58 </td><td> 1.040</td><td>u     </td><td>g     </td><td>aa    </td><td>v     </td><td>0.665 </td><td>f     </td><td>f     </td><td> 0    </td><td>f     </td><td>g     </td><td>240   </td><td>237   </td><td>-     </td></tr>\n",
       "\t<tr><th scope=row>677</th><td>a     </td><td>30.58 </td><td>10.665</td><td>u     </td><td>g     </td><td>q     </td><td>h     </td><td>0.085 </td><td>f     </td><td>t     </td><td>12    </td><td>t     </td><td>g     </td><td>129   </td><td>  3   </td><td>-     </td></tr>\n",
       "\t<tr><th scope=row>678</th><td>b     </td><td>19.42 </td><td> 7.250</td><td>u     </td><td>g     </td><td>m     </td><td>v     </td><td>0.040 </td><td>f     </td><td>t     </td><td> 1    </td><td>f     </td><td>g     </td><td>100   </td><td>  1   </td><td>-     </td></tr>\n",
       "\t<tr><th scope=row>679</th><td>a     </td><td>17.92 </td><td>10.210</td><td>u     </td><td>g     </td><td>ff    </td><td>ff    </td><td>0.000 </td><td>f     </td><td>f     </td><td> 0    </td><td>f     </td><td>g     </td><td>0     </td><td> 50   </td><td>-     </td></tr>\n",
       "\t<tr><th scope=row>680</th><td>a     </td><td>20.08 </td><td> 1.250</td><td>u     </td><td>g     </td><td>c     </td><td>v     </td><td>0.000 </td><td>f     </td><td>f     </td><td> 0    </td><td>f     </td><td>g     </td><td>0     </td><td>  0   </td><td>-     </td></tr>\n",
       "\t<tr><th scope=row>681</th><td>b     </td><td>19.5  </td><td> 0.290</td><td>u     </td><td>g     </td><td>k     </td><td>v     </td><td>0.290 </td><td>f     </td><td>f     </td><td> 0    </td><td>f     </td><td>g     </td><td>280   </td><td>364   </td><td>-     </td></tr>\n",
       "\t<tr><th scope=row>682</th><td>b     </td><td>27.83 </td><td> 1.000</td><td>y     </td><td>p     </td><td>d     </td><td>h     </td><td>3.000 </td><td>f     </td><td>f     </td><td> 0    </td><td>f     </td><td>g     </td><td>176   </td><td>537   </td><td>-     </td></tr>\n",
       "\t<tr><th scope=row>683</th><td>b     </td><td>17.08 </td><td> 3.290</td><td>u     </td><td>g     </td><td>i     </td><td>v     </td><td>0.335 </td><td>f     </td><td>f     </td><td> 0    </td><td>t     </td><td>g     </td><td>140   </td><td>  2   </td><td>-     </td></tr>\n",
       "\t<tr><th scope=row>684</th><td>b     </td><td>36.42 </td><td> 0.750</td><td>y     </td><td>p     </td><td>d     </td><td>v     </td><td>0.585 </td><td>f     </td><td>f     </td><td> 0    </td><td>f     </td><td>g     </td><td>240   </td><td>  3   </td><td>-     </td></tr>\n",
       "\t<tr><th scope=row>685</th><td>b     </td><td>40.58 </td><td> 3.290</td><td>u     </td><td>g     </td><td>m     </td><td>v     </td><td>3.500 </td><td>f     </td><td>f     </td><td> 0    </td><td>t     </td><td>s     </td><td>400   </td><td>  0   </td><td>-     </td></tr>\n",
       "\t<tr><th scope=row>686</th><td>b     </td><td>21.08 </td><td>10.085</td><td>y     </td><td>p     </td><td>e     </td><td>h     </td><td>1.250 </td><td>f     </td><td>f     </td><td> 0    </td><td>f     </td><td>g     </td><td>260   </td><td>  0   </td><td>-     </td></tr>\n",
       "\t<tr><th scope=row>687</th><td>a     </td><td>22.67 </td><td> 0.750</td><td>u     </td><td>g     </td><td>c     </td><td>v     </td><td>2.000 </td><td>f     </td><td>t     </td><td> 2    </td><td>t     </td><td>g     </td><td>200   </td><td>394   </td><td>-     </td></tr>\n",
       "\t<tr><th scope=row>688</th><td>a     </td><td>25.25 </td><td>13.500</td><td>y     </td><td>p     </td><td>ff    </td><td>ff    </td><td>2.000 </td><td>f     </td><td>t     </td><td> 1    </td><td>t     </td><td>g     </td><td>200   </td><td>  1   </td><td>-     </td></tr>\n",
       "\t<tr><th scope=row>689</th><td>b     </td><td>17.92 </td><td> 0.205</td><td>u     </td><td>g     </td><td>aa    </td><td>v     </td><td>0.040 </td><td>f     </td><td>f     </td><td> 0    </td><td>f     </td><td>g     </td><td>280   </td><td>750   </td><td>-     </td></tr>\n",
       "\t<tr><th scope=row>690</th><td>b     </td><td>35    </td><td> 3.375</td><td>u     </td><td>g     </td><td>c     </td><td>h     </td><td>8.290 </td><td>f     </td><td>f     </td><td> 0    </td><td>t     </td><td>g     </td><td>0     </td><td>  0   </td><td>-     </td></tr>\n",
       "</tbody>\n",
       "</table>\n"
      ],
      "text/latex": [
       "\\begin{tabular}{r|llllllllllllllll}\n",
       "  & Gender & Age & Debt & Married & BankCustomer & EducationLevel & Ethnicity & YearsEmployed & PriorDefault & Employed & CreditScore & DriversLicense & Citizen & ZipCode & Income & ApprovalStatus\\\\\n",
       "\\hline\n",
       "\t674 & ?      & 29.5   &  2.000 & y      & p      & e      & h      & 2.000  & f      & f      &  0     & f      & g      & 256    &  17    & -     \\\\\n",
       "\t675 & a      & 37.33  &  2.500 & u      & g      & i      & h      & 0.210  & f      & f      &  0     & f      & g      & 260    & 246    & -     \\\\\n",
       "\t676 & a      & 41.58  &  1.040 & u      & g      & aa     & v      & 0.665  & f      & f      &  0     & f      & g      & 240    & 237    & -     \\\\\n",
       "\t677 & a      & 30.58  & 10.665 & u      & g      & q      & h      & 0.085  & f      & t      & 12     & t      & g      & 129    &   3    & -     \\\\\n",
       "\t678 & b      & 19.42  &  7.250 & u      & g      & m      & v      & 0.040  & f      & t      &  1     & f      & g      & 100    &   1    & -     \\\\\n",
       "\t679 & a      & 17.92  & 10.210 & u      & g      & ff     & ff     & 0.000  & f      & f      &  0     & f      & g      & 0      &  50    & -     \\\\\n",
       "\t680 & a      & 20.08  &  1.250 & u      & g      & c      & v      & 0.000  & f      & f      &  0     & f      & g      & 0      &   0    & -     \\\\\n",
       "\t681 & b      & 19.5   &  0.290 & u      & g      & k      & v      & 0.290  & f      & f      &  0     & f      & g      & 280    & 364    & -     \\\\\n",
       "\t682 & b      & 27.83  &  1.000 & y      & p      & d      & h      & 3.000  & f      & f      &  0     & f      & g      & 176    & 537    & -     \\\\\n",
       "\t683 & b      & 17.08  &  3.290 & u      & g      & i      & v      & 0.335  & f      & f      &  0     & t      & g      & 140    &   2    & -     \\\\\n",
       "\t684 & b      & 36.42  &  0.750 & y      & p      & d      & v      & 0.585  & f      & f      &  0     & f      & g      & 240    &   3    & -     \\\\\n",
       "\t685 & b      & 40.58  &  3.290 & u      & g      & m      & v      & 3.500  & f      & f      &  0     & t      & s      & 400    &   0    & -     \\\\\n",
       "\t686 & b      & 21.08  & 10.085 & y      & p      & e      & h      & 1.250  & f      & f      &  0     & f      & g      & 260    &   0    & -     \\\\\n",
       "\t687 & a      & 22.67  &  0.750 & u      & g      & c      & v      & 2.000  & f      & t      &  2     & t      & g      & 200    & 394    & -     \\\\\n",
       "\t688 & a      & 25.25  & 13.500 & y      & p      & ff     & ff     & 2.000  & f      & t      &  1     & t      & g      & 200    &   1    & -     \\\\\n",
       "\t689 & b      & 17.92  &  0.205 & u      & g      & aa     & v      & 0.040  & f      & f      &  0     & f      & g      & 280    & 750    & -     \\\\\n",
       "\t690 & b      & 35     &  3.375 & u      & g      & c      & h      & 8.290  & f      & f      &  0     & t      & g      & 0      &   0    & -     \\\\\n",
       "\\end{tabular}\n"
      ],
      "text/markdown": [
       "\n",
       "| <!--/--> | Gender | Age | Debt | Married | BankCustomer | EducationLevel | Ethnicity | YearsEmployed | PriorDefault | Employed | CreditScore | DriversLicense | Citizen | ZipCode | Income | ApprovalStatus | \n",
       "|---|---|---|---|---|---|---|---|---|---|---|---|---|---|---|---|---|\n",
       "| 674 | ?      | 29.5   |  2.000 | y      | p      | e      | h      | 2.000  | f      | f      |  0     | f      | g      | 256    |  17    | -      | \n",
       "| 675 | a      | 37.33  |  2.500 | u      | g      | i      | h      | 0.210  | f      | f      |  0     | f      | g      | 260    | 246    | -      | \n",
       "| 676 | a      | 41.58  |  1.040 | u      | g      | aa     | v      | 0.665  | f      | f      |  0     | f      | g      | 240    | 237    | -      | \n",
       "| 677 | a      | 30.58  | 10.665 | u      | g      | q      | h      | 0.085  | f      | t      | 12     | t      | g      | 129    |   3    | -      | \n",
       "| 678 | b      | 19.42  |  7.250 | u      | g      | m      | v      | 0.040  | f      | t      |  1     | f      | g      | 100    |   1    | -      | \n",
       "| 679 | a      | 17.92  | 10.210 | u      | g      | ff     | ff     | 0.000  | f      | f      |  0     | f      | g      | 0      |  50    | -      | \n",
       "| 680 | a      | 20.08  |  1.250 | u      | g      | c      | v      | 0.000  | f      | f      |  0     | f      | g      | 0      |   0    | -      | \n",
       "| 681 | b      | 19.5   |  0.290 | u      | g      | k      | v      | 0.290  | f      | f      |  0     | f      | g      | 280    | 364    | -      | \n",
       "| 682 | b      | 27.83  |  1.000 | y      | p      | d      | h      | 3.000  | f      | f      |  0     | f      | g      | 176    | 537    | -      | \n",
       "| 683 | b      | 17.08  |  3.290 | u      | g      | i      | v      | 0.335  | f      | f      |  0     | t      | g      | 140    |   2    | -      | \n",
       "| 684 | b      | 36.42  |  0.750 | y      | p      | d      | v      | 0.585  | f      | f      |  0     | f      | g      | 240    |   3    | -      | \n",
       "| 685 | b      | 40.58  |  3.290 | u      | g      | m      | v      | 3.500  | f      | f      |  0     | t      | s      | 400    |   0    | -      | \n",
       "| 686 | b      | 21.08  | 10.085 | y      | p      | e      | h      | 1.250  | f      | f      |  0     | f      | g      | 260    |   0    | -      | \n",
       "| 687 | a      | 22.67  |  0.750 | u      | g      | c      | v      | 2.000  | f      | t      |  2     | t      | g      | 200    | 394    | -      | \n",
       "| 688 | a      | 25.25  | 13.500 | y      | p      | ff     | ff     | 2.000  | f      | t      |  1     | t      | g      | 200    |   1    | -      | \n",
       "| 689 | b      | 17.92  |  0.205 | u      | g      | aa     | v      | 0.040  | f      | f      |  0     | f      | g      | 280    | 750    | -      | \n",
       "| 690 | b      | 35     |  3.375 | u      | g      | c      | h      | 8.290  | f      | f      |  0     | t      | g      | 0      |   0    | -      | \n",
       "\n",
       "\n"
      ],
      "text/plain": [
       "    Gender Age   Debt   Married BankCustomer EducationLevel Ethnicity\n",
       "674 ?      29.5   2.000 y       p            e              h        \n",
       "675 a      37.33  2.500 u       g            i              h        \n",
       "676 a      41.58  1.040 u       g            aa             v        \n",
       "677 a      30.58 10.665 u       g            q              h        \n",
       "678 b      19.42  7.250 u       g            m              v        \n",
       "679 a      17.92 10.210 u       g            ff             ff       \n",
       "680 a      20.08  1.250 u       g            c              v        \n",
       "681 b      19.5   0.290 u       g            k              v        \n",
       "682 b      27.83  1.000 y       p            d              h        \n",
       "683 b      17.08  3.290 u       g            i              v        \n",
       "684 b      36.42  0.750 y       p            d              v        \n",
       "685 b      40.58  3.290 u       g            m              v        \n",
       "686 b      21.08 10.085 y       p            e              h        \n",
       "687 a      22.67  0.750 u       g            c              v        \n",
       "688 a      25.25 13.500 y       p            ff             ff       \n",
       "689 b      17.92  0.205 u       g            aa             v        \n",
       "690 b      35     3.375 u       g            c              h        \n",
       "    YearsEmployed PriorDefault Employed CreditScore DriversLicense Citizen\n",
       "674 2.000         f            f         0          f              g      \n",
       "675 0.210         f            f         0          f              g      \n",
       "676 0.665         f            f         0          f              g      \n",
       "677 0.085         f            t        12          t              g      \n",
       "678 0.040         f            t         1          f              g      \n",
       "679 0.000         f            f         0          f              g      \n",
       "680 0.000         f            f         0          f              g      \n",
       "681 0.290         f            f         0          f              g      \n",
       "682 3.000         f            f         0          f              g      \n",
       "683 0.335         f            f         0          t              g      \n",
       "684 0.585         f            f         0          f              g      \n",
       "685 3.500         f            f         0          t              s      \n",
       "686 1.250         f            f         0          f              g      \n",
       "687 2.000         f            t         2          t              g      \n",
       "688 2.000         f            t         1          t              g      \n",
       "689 0.040         f            f         0          f              g      \n",
       "690 8.290         f            f         0          t              g      \n",
       "    ZipCode Income ApprovalStatus\n",
       "674 256      17    -             \n",
       "675 260     246    -             \n",
       "676 240     237    -             \n",
       "677 129       3    -             \n",
       "678 100       1    -             \n",
       "679 0        50    -             \n",
       "680 0         0    -             \n",
       "681 280     364    -             \n",
       "682 176     537    -             \n",
       "683 140       2    -             \n",
       "684 240       3    -             \n",
       "685 400       0    -             \n",
       "686 260       0    -             \n",
       "687 200     394    -             \n",
       "688 200       1    -             \n",
       "689 280     750    -             \n",
       "690 0         0    -             "
      ]
     },
     "metadata": {},
     "output_type": "display_data"
    }
   ],
   "source": [
    "# Setup the environment\n",
    "# package.list<- c(\"knitr\",\"ggplot2\",\"dplyr\",\"reshape2\",\"ROCR\",\"caTools\",\"rpart\",\n",
    "#                  \"rpart.plot\",\"arules\",\"scales\")\n",
    "# lapply(package.list, require, character.only = TRUE)\n",
    "# options(scipen=6, width=100)\n",
    "\n",
    "library(ggplot2)\n",
    "#install.packages('caTools')\n",
    "library(caTools)  #Used for data splitting\n",
    "\n",
    "# Load dataset\n",
    "\n",
    "credit_df = read.csv(\"/Users/jay/Downloads/Predicting Credit Card Approvals/datasets/cc_approvals.csv\")\n",
    "\n",
    "# Inspect data\n",
    "tail(credit_df,17)"
   ]
  },
  {
   "cell_type": "markdown",
   "metadata": {},
   "source": [
    "# 2. Exploratory Data Analysis\n",
    "Inspecting the structure, numerical summary, and specific rows of the dataset.\n",
    "- the dataset has a mixture of numerical and non-numerical features. This can be fixed with some preprocessing.\n",
    "\n",
    "- Specifically, the features 2, 7, 10 and 14 contain numeric values (of types float64, float64, int64 and int64 respectively) and all the other features contain non-numeric values.\n",
    "- The dataset also contains values from several ranges. Some features have a value range of 0 - 28, some have a range of 2 - 67, and some have a range of 1017 - 100000. \n",
    "- We can get useful statistical information (like <code>mean</code>, <code>max</code>, and <code>min</code>) about the features that have numerical values. \n"
   ]
  },
  {
   "cell_type": "code",
   "execution_count": 2,
   "metadata": {},
   "outputs": [
    {
     "name": "stdout",
     "output_type": "stream",
     "text": [
      " Gender       Age           Debt        Married BankCustomer EducationLevel\n",
      " ?: 12   ?      : 12   Min.   : 0.000   ?:  6   ? :  6       c      :137   \n",
      " a:210   22.67  :  9   1st Qu.: 1.000   l:  2   g :519       q      : 78   \n",
      " b:468   20.42  :  7   Median : 2.750   u:519   gg:  2       w      : 64   \n",
      "         18.83  :  6   Mean   : 4.759   y:163   p :163       i      : 59   \n",
      "         19.17  :  6   3rd Qu.: 7.207                        aa     : 54   \n",
      "         20.67  :  6   Max.   :28.000                        ff     : 53   \n",
      "         (Other):644                                         (Other):245   \n",
      "   Ethnicity   YearsEmployed    PriorDefault Employed  CreditScore  \n",
      " v      :399   Min.   : 0.000   f:329        f:395    Min.   : 0.0  \n",
      " h      :138   1st Qu.: 0.165   t:361        t:295    1st Qu.: 0.0  \n",
      " bb     : 59   Median : 1.000                         Median : 0.0  \n",
      " ff     : 57   Mean   : 2.223                         Mean   : 2.4  \n",
      " ?      :  9   3rd Qu.: 2.625                         3rd Qu.: 3.0  \n",
      " j      :  8   Max.   :28.500                         Max.   :67.0  \n",
      " (Other): 20                                                        \n",
      " DriversLicense Citizen    ZipCode        Income         ApprovalStatus\n",
      " f:374          g:625   0      :132   Min.   :     0.0   -:383         \n",
      " t:316          p:  8   120    : 35   1st Qu.:     0.0   +:307         \n",
      "                s: 57   200    : 35   Median :     5.0                 \n",
      "                        160    : 34   Mean   :  1017.4                 \n",
      "                        100    : 30   3rd Qu.:   395.5                 \n",
      "                        80     : 30   Max.   :100000.0                 \n",
      "                        (Other):394                                    \n",
      "'data.frame':\t690 obs. of  16 variables:\n",
      " $ Gender        : Factor w/ 3 levels \"?\",\"a\",\"b\": 3 2 2 3 3 3 3 2 3 3 ...\n",
      " $ Age           : Factor w/ 350 levels \"?\",\"13.75\",\"15.17\",..: 158 330 91 127 45 170 181 76 312 257 ...\n",
      " $ Debt          : num  0 4.46 0.5 1.54 5.62 ...\n",
      " $ Married       : Factor w/ 4 levels \"?\",\"l\",\"u\",\"y\": 3 3 3 3 3 3 3 3 4 4 ...\n",
      " $ BankCustomer  : Factor w/ 4 levels \"?\",\"g\",\"gg\",\"p\": 2 2 2 2 2 2 2 2 4 4 ...\n",
      " $ EducationLevel: Factor w/ 15 levels \"?\",\"aa\",\"c\",\"cc\",..: 14 12 12 14 14 11 13 4 10 14 ...\n",
      " $ Ethnicity     : Factor w/ 10 levels \"?\",\"bb\",\"dd\",..: 9 5 5 9 9 9 5 9 5 9 ...\n",
      " $ YearsEmployed : num  1.25 3.04 1.5 3.75 1.71 ...\n",
      " $ PriorDefault  : Factor w/ 2 levels \"f\",\"t\": 2 2 2 2 2 2 2 2 2 2 ...\n",
      " $ Employed      : Factor w/ 2 levels \"f\",\"t\": 2 2 1 2 1 1 1 1 1 1 ...\n",
      " $ CreditScore   : int  1 6 0 5 0 0 0 0 0 0 ...\n",
      " $ DriversLicense: Factor w/ 2 levels \"f\",\"t\": 1 1 1 2 1 2 2 1 1 2 ...\n",
      " $ Citizen       : Factor w/ 3 levels \"g\",\"p\",\"s\": 1 1 1 1 3 1 1 1 1 1 ...\n",
      " $ ZipCode       : Factor w/ 171 levels \"?\",\"0\",\"100\",..: 44 120 76 3 10 98 27 161 36 142 ...\n",
      " $ Income        : int  0 560 824 3 0 0 31285 1349 314 1442 ...\n",
      " $ ApprovalStatus: Factor w/ 2 levels \"-\",\"+\": 2 2 2 2 2 2 2 2 2 2 ...\n"
     ]
    }
   ],
   "source": [
    "# Print summary statistics\n",
    "credit_df_description = summary(credit_df)\n",
    "print(credit_df_description)\n",
    "\n",
    "# Print DataFrame information (View the structure of the data)\n",
    "str(credit_df)"
   ]
  },
  {
   "cell_type": "markdown",
   "metadata": {},
   "source": [
    "## 3. Handling missing values (Marking missing values as NaN)\n",
    "\n",
    "Marking Missing Values or corrupted data as NaN. Then, we can count the number of true values in each column.\n",
    "\n",
    "- The dataset has missing values. The missing values in the dataset are labeled with '?'.\n",
    "- Let's temporarily replace these missing value question marks with NaN.\n",
    "- A total of 67 missing values were identified"
   ]
  },
  {
   "cell_type": "code",
   "execution_count": 3,
   "metadata": {
    "scrolled": false
   },
   "outputs": [
    {
     "name": "stdout",
     "output_type": "stream",
     "text": [
      "    Gender   Age   Debt Married BankCustomer EducationLevel Ethnicity\n",
      "685      b 40.58  3.290       u            g              m         v\n",
      "686      b 21.08 10.085       y            p              e         h\n",
      "687      a 22.67  0.750       u            g              c         v\n",
      "688      a 25.25 13.500       y            p             ff        ff\n",
      "689      b 17.92  0.205       u            g             aa         v\n",
      "690      b    35  3.375       u            g              c         h\n",
      "    YearsEmployed PriorDefault Employed CreditScore DriversLicense Citizen\n",
      "685          3.50            f        f           0              t       s\n",
      "686          1.25            f        f           0              f       g\n",
      "687          2.00            f        t           2              t       g\n",
      "688          2.00            f        t           1              t       g\n",
      "689          0.04            f        f           0              f       g\n",
      "690          8.29            f        f           0              t       g\n",
      "    ZipCode Income ApprovalStatus\n",
      "685     400      0              -\n",
      "686     260      0              -\n",
      "687     200    394              -\n",
      "688     200      1              -\n",
      "689     280    750              -\n",
      "690       0      0              -\n"
     ]
    },
    {
     "data": {
      "text/html": [
       "<dl class=dl-horizontal>\n",
       "\t<dt>Gender</dt>\n",
       "\t\t<dd>0</dd>\n",
       "\t<dt>Age</dt>\n",
       "\t\t<dd>0</dd>\n",
       "\t<dt>Debt</dt>\n",
       "\t\t<dd>0</dd>\n",
       "\t<dt>Married</dt>\n",
       "\t\t<dd>0</dd>\n",
       "\t<dt>BankCustomer</dt>\n",
       "\t\t<dd>0</dd>\n",
       "\t<dt>EducationLevel</dt>\n",
       "\t\t<dd>0</dd>\n",
       "\t<dt>Ethnicity</dt>\n",
       "\t\t<dd>0</dd>\n",
       "\t<dt>YearsEmployed</dt>\n",
       "\t\t<dd>0</dd>\n",
       "\t<dt>PriorDefault</dt>\n",
       "\t\t<dd>0</dd>\n",
       "\t<dt>Employed</dt>\n",
       "\t\t<dd>0</dd>\n",
       "\t<dt>CreditScore</dt>\n",
       "\t\t<dd>0</dd>\n",
       "\t<dt>DriversLicense</dt>\n",
       "\t\t<dd>0</dd>\n",
       "\t<dt>Citizen</dt>\n",
       "\t\t<dd>0</dd>\n",
       "\t<dt>ZipCode</dt>\n",
       "\t\t<dd>0</dd>\n",
       "\t<dt>Income</dt>\n",
       "\t\t<dd>0</dd>\n",
       "\t<dt>ApprovalStatus</dt>\n",
       "\t\t<dd>0</dd>\n",
       "</dl>\n"
      ],
      "text/latex": [
       "\\begin{description*}\n",
       "\\item[Gender] 0\n",
       "\\item[Age] 0\n",
       "\\item[Debt] 0\n",
       "\\item[Married] 0\n",
       "\\item[BankCustomer] 0\n",
       "\\item[EducationLevel] 0\n",
       "\\item[Ethnicity] 0\n",
       "\\item[YearsEmployed] 0\n",
       "\\item[PriorDefault] 0\n",
       "\\item[Employed] 0\n",
       "\\item[CreditScore] 0\n",
       "\\item[DriversLicense] 0\n",
       "\\item[Citizen] 0\n",
       "\\item[ZipCode] 0\n",
       "\\item[Income] 0\n",
       "\\item[ApprovalStatus] 0\n",
       "\\end{description*}\n"
      ],
      "text/markdown": [
       "Gender\n",
       ":   0Age\n",
       ":   0Debt\n",
       ":   0Married\n",
       ":   0BankCustomer\n",
       ":   0EducationLevel\n",
       ":   0Ethnicity\n",
       ":   0YearsEmployed\n",
       ":   0PriorDefault\n",
       ":   0Employed\n",
       ":   0CreditScore\n",
       ":   0DriversLicense\n",
       ":   0Citizen\n",
       ":   0ZipCode\n",
       ":   0Income\n",
       ":   0ApprovalStatus\n",
       ":   0\n",
       "\n"
      ],
      "text/plain": [
       "        Gender            Age           Debt        Married   BankCustomer \n",
       "             0              0              0              0              0 \n",
       "EducationLevel      Ethnicity  YearsEmployed   PriorDefault       Employed \n",
       "             0              0              0              0              0 \n",
       "   CreditScore DriversLicense        Citizen        ZipCode         Income \n",
       "             0              0              0              0              0 \n",
       "ApprovalStatus \n",
       "             0 "
      ]
     },
     "metadata": {},
     "output_type": "display_data"
    },
    {
     "data": {
      "text/html": [
       "0"
      ],
      "text/latex": [
       "0"
      ],
      "text/markdown": [
       "0"
      ],
      "text/plain": [
       "[1] 0"
      ]
     },
     "metadata": {},
     "output_type": "display_data"
    },
    {
     "data": {
      "text/html": [
       "<table>\n",
       "<thead><tr><th></th><th scope=col>Gender</th><th scope=col>Age</th><th scope=col>Debt</th><th scope=col>Married</th><th scope=col>BankCustomer</th><th scope=col>EducationLevel</th><th scope=col>Ethnicity</th><th scope=col>YearsEmployed</th><th scope=col>PriorDefault</th><th scope=col>Employed</th><th scope=col>CreditScore</th><th scope=col>DriversLicense</th><th scope=col>Citizen</th><th scope=col>ZipCode</th><th scope=col>Income</th><th scope=col>ApprovalStatus</th></tr></thead>\n",
       "<tbody>\n",
       "\t<tr><th scope=row>674</th><td>?   </td><td>29.5</td><td>2   </td><td>y   </td><td>p   </td><td>e   </td><td>h   </td><td>2   </td><td>f   </td><td>f   </td><td>0   </td><td>f   </td><td>g   </td><td>256 </td><td>17  </td><td>-   </td></tr>\n",
       "</tbody>\n",
       "</table>\n"
      ],
      "text/latex": [
       "\\begin{tabular}{r|llllllllllllllll}\n",
       "  & Gender & Age & Debt & Married & BankCustomer & EducationLevel & Ethnicity & YearsEmployed & PriorDefault & Employed & CreditScore & DriversLicense & Citizen & ZipCode & Income & ApprovalStatus\\\\\n",
       "\\hline\n",
       "\t674 & ?    & 29.5 & 2    & y    & p    & e    & h    & 2    & f    & f    & 0    & f    & g    & 256  & 17   & -   \\\\\n",
       "\\end{tabular}\n"
      ],
      "text/markdown": [
       "\n",
       "| <!--/--> | Gender | Age | Debt | Married | BankCustomer | EducationLevel | Ethnicity | YearsEmployed | PriorDefault | Employed | CreditScore | DriversLicense | Citizen | ZipCode | Income | ApprovalStatus | \n",
       "|---|\n",
       "| 674 | ?    | 29.5 | 2    | y    | p    | e    | h    | 2    | f    | f    | 0    | f    | g    | 256  | 17   | -    | \n",
       "\n",
       "\n"
      ],
      "text/plain": [
       "    Gender Age  Debt Married BankCustomer EducationLevel Ethnicity\n",
       "674 ?      29.5 2    y       p            e              h        \n",
       "    YearsEmployed PriorDefault Employed CreditScore DriversLicense Citizen\n",
       "674 2             f            f        0           f              g      \n",
       "    ZipCode Income ApprovalStatus\n",
       "674 256     17     -             "
      ]
     },
     "metadata": {},
     "output_type": "display_data"
    },
    {
     "data": {
      "text/html": [
       "<dl class=dl-horizontal>\n",
       "\t<dt>Gender</dt>\n",
       "\t\t<dd>12</dd>\n",
       "\t<dt>Age</dt>\n",
       "\t\t<dd>12</dd>\n",
       "\t<dt>Debt</dt>\n",
       "\t\t<dd>0</dd>\n",
       "\t<dt>Married</dt>\n",
       "\t\t<dd>6</dd>\n",
       "\t<dt>BankCustomer</dt>\n",
       "\t\t<dd>6</dd>\n",
       "\t<dt>EducationLevel</dt>\n",
       "\t\t<dd>9</dd>\n",
       "\t<dt>Ethnicity</dt>\n",
       "\t\t<dd>9</dd>\n",
       "\t<dt>YearsEmployed</dt>\n",
       "\t\t<dd>0</dd>\n",
       "\t<dt>PriorDefault</dt>\n",
       "\t\t<dd>0</dd>\n",
       "\t<dt>Employed</dt>\n",
       "\t\t<dd>0</dd>\n",
       "\t<dt>CreditScore</dt>\n",
       "\t\t<dd>0</dd>\n",
       "\t<dt>DriversLicense</dt>\n",
       "\t\t<dd>0</dd>\n",
       "\t<dt>Citizen</dt>\n",
       "\t\t<dd>0</dd>\n",
       "\t<dt>ZipCode</dt>\n",
       "\t\t<dd>13</dd>\n",
       "\t<dt>Income</dt>\n",
       "\t\t<dd>0</dd>\n",
       "\t<dt>ApprovalStatus</dt>\n",
       "\t\t<dd>0</dd>\n",
       "</dl>\n"
      ],
      "text/latex": [
       "\\begin{description*}\n",
       "\\item[Gender] 12\n",
       "\\item[Age] 12\n",
       "\\item[Debt] 0\n",
       "\\item[Married] 6\n",
       "\\item[BankCustomer] 6\n",
       "\\item[EducationLevel] 9\n",
       "\\item[Ethnicity] 9\n",
       "\\item[YearsEmployed] 0\n",
       "\\item[PriorDefault] 0\n",
       "\\item[Employed] 0\n",
       "\\item[CreditScore] 0\n",
       "\\item[DriversLicense] 0\n",
       "\\item[Citizen] 0\n",
       "\\item[ZipCode] 13\n",
       "\\item[Income] 0\n",
       "\\item[ApprovalStatus] 0\n",
       "\\end{description*}\n"
      ],
      "text/markdown": [
       "Gender\n",
       ":   12Age\n",
       ":   12Debt\n",
       ":   0Married\n",
       ":   6BankCustomer\n",
       ":   6EducationLevel\n",
       ":   9Ethnicity\n",
       ":   9YearsEmployed\n",
       ":   0PriorDefault\n",
       ":   0Employed\n",
       ":   0CreditScore\n",
       ":   0DriversLicense\n",
       ":   0Citizen\n",
       ":   0ZipCode\n",
       ":   13Income\n",
       ":   0ApprovalStatus\n",
       ":   0\n",
       "\n"
      ],
      "text/plain": [
       "        Gender            Age           Debt        Married   BankCustomer \n",
       "            12             12              0              6              6 \n",
       "EducationLevel      Ethnicity  YearsEmployed   PriorDefault       Employed \n",
       "             9              9              0              0              0 \n",
       "   CreditScore DriversLicense        Citizen        ZipCode         Income \n",
       "             0              0              0             13              0 \n",
       "ApprovalStatus \n",
       "             0 "
      ]
     },
     "metadata": {},
     "output_type": "display_data"
    },
    {
     "data": {
      "text/html": [
       "67"
      ],
      "text/latex": [
       "67"
      ],
      "text/markdown": [
       "67"
      ],
      "text/plain": [
       "[1] 67"
      ]
     },
     "metadata": {},
     "output_type": "display_data"
    },
    {
     "data": {
      "text/html": [
       "<table>\n",
       "<thead><tr><th></th><th scope=col>Gender</th><th scope=col>Age</th><th scope=col>Debt</th><th scope=col>Married</th><th scope=col>BankCustomer</th><th scope=col>EducationLevel</th><th scope=col>Ethnicity</th><th scope=col>YearsEmployed</th><th scope=col>PriorDefault</th><th scope=col>Employed</th><th scope=col>CreditScore</th><th scope=col>DriversLicense</th><th scope=col>Citizen</th><th scope=col>ZipCode</th><th scope=col>Income</th><th scope=col>ApprovalStatus</th></tr></thead>\n",
       "<tbody>\n",
       "\t<tr><th scope=row>674</th><td>NA  </td><td>29.5</td><td>2   </td><td>y   </td><td>p   </td><td>e   </td><td>h   </td><td>2   </td><td>f   </td><td>f   </td><td>0   </td><td>f   </td><td>g   </td><td>256 </td><td>17  </td><td>-   </td></tr>\n",
       "</tbody>\n",
       "</table>\n"
      ],
      "text/latex": [
       "\\begin{tabular}{r|llllllllllllllll}\n",
       "  & Gender & Age & Debt & Married & BankCustomer & EducationLevel & Ethnicity & YearsEmployed & PriorDefault & Employed & CreditScore & DriversLicense & Citizen & ZipCode & Income & ApprovalStatus\\\\\n",
       "\\hline\n",
       "\t674 & NA   & 29.5 & 2    & y    & p    & e    & h    & 2    & f    & f    & 0    & f    & g    & 256  & 17   & -   \\\\\n",
       "\\end{tabular}\n"
      ],
      "text/markdown": [
       "\n",
       "| <!--/--> | Gender | Age | Debt | Married | BankCustomer | EducationLevel | Ethnicity | YearsEmployed | PriorDefault | Employed | CreditScore | DriversLicense | Citizen | ZipCode | Income | ApprovalStatus | \n",
       "|---|\n",
       "| 674 | NA   | 29.5 | 2    | y    | p    | e    | h    | 2    | f    | f    | 0    | f    | g    | 256  | 17   | -    | \n",
       "\n",
       "\n"
      ],
      "text/plain": [
       "    Gender Age  Debt Married BankCustomer EducationLevel Ethnicity\n",
       "674 NA     29.5 2    y       p            e              h        \n",
       "    YearsEmployed PriorDefault Employed CreditScore DriversLicense Citizen\n",
       "674 2             f            f        0           f              g      \n",
       "    ZipCode Income ApprovalStatus\n",
       "674 256     17     -             "
      ]
     },
     "metadata": {},
     "output_type": "display_data"
    }
   ],
   "source": [
    "# Inspect missing values in the dataset\n",
    "print(tail(credit_df))\n",
    "\n",
    "# Count the number of NaNs in each column\n",
    "colSums(is.na(credit_df))\n",
    "\n",
    "#count the number of NaNS in dataframe\n",
    "sum(is.na(credit_df))\n",
    "\n",
    "# checking an example of '?' value\n",
    "credit_df[674,]\n",
    "\n",
    "# Replace the '?'s with NaN\n",
    "credit_df[ credit_df == \"?\" ] <- NA\n",
    "#Updating the levels of the factor variables \n",
    "credit_df[,-c(2:3,8,11,15)] <- lapply( credit_df[,-c(2:3,8,11,15)], factor )\n",
    "\n",
    "# Count the number of NaNs in each column\n",
    "colSums(is.na(credit_df))\n",
    "\n",
    "#count the number of NaNS in dataframe\n",
    "sum(is.na(credit_df))\n",
    "\n",
    "# verify transformation\n",
    "credit_df[674,]"
   ]
  },
  {
   "cell_type": "markdown",
   "metadata": {},
   "source": [
    "## 5. Handling the missing values (Data Imputation)\n",
    "Median Imputation for numerical data and Frequent value for categorical data.\n",
    "\n",
    "- There are missing values for numerical variables. We could simply use the mean of all the existing values to do so. Another method would be to check the relationship among the numeric values and use a linear regression to fill them in.\n",
    "\n",
    "- There are still some missing values to be imputed for columns Gender, Age, Married, BankCustomer, EducationLevel, Ethnicity and ZipCode. All of these columns contain non-numeric data and we are going to impute these missing values with the most frequent values as present in the respective columns. "
   ]
  },
  {
   "cell_type": "code",
   "execution_count": 4,
   "metadata": {
    "scrolled": true
   },
   "outputs": [
    {
     "data": {
      "text/html": [
       "<ol class=list-inline>\n",
       "\t<li>'Age'</li>\n",
       "\t<li>'Debt'</li>\n",
       "\t<li>'YearsEmployed'</li>\n",
       "\t<li>'CreditScore'</li>\n",
       "\t<li>'Income'</li>\n",
       "</ol>\n"
      ],
      "text/latex": [
       "\\begin{enumerate*}\n",
       "\\item 'Age'\n",
       "\\item 'Debt'\n",
       "\\item 'YearsEmployed'\n",
       "\\item 'CreditScore'\n",
       "\\item 'Income'\n",
       "\\end{enumerate*}\n"
      ],
      "text/markdown": [
       "1. 'Age'\n",
       "2. 'Debt'\n",
       "3. 'YearsEmployed'\n",
       "4. 'CreditScore'\n",
       "5. 'Income'\n",
       "\n",
       "\n"
      ],
      "text/plain": [
       "[1] \"Age\"           \"Debt\"          \"YearsEmployed\" \"CreditScore\"  \n",
       "[5] \"Income\"       "
      ]
     },
     "metadata": {},
     "output_type": "display_data"
    },
    {
     "data": {
      "text/html": [
       "<table>\n",
       "<thead><tr><th></th><th scope=col>Age</th><th scope=col>Debt</th><th scope=col>YearsEmployed</th><th scope=col>CreditScore</th><th scope=col>Income</th></tr></thead>\n",
       "<tbody>\n",
       "\t<tr><th scope=row>Age</th><td>1.000</td><td>0.149</td><td>0.395</td><td>0.183</td><td>0.019</td></tr>\n",
       "\t<tr><th scope=row>Debt</th><td>0.149</td><td>1.000</td><td>0.301</td><td>0.272</td><td>0.122</td></tr>\n",
       "\t<tr><th scope=row>YearsEmployed</th><td>0.395</td><td>0.301</td><td>1.000</td><td>0.327</td><td>0.053</td></tr>\n",
       "\t<tr><th scope=row>CreditScore</th><td>0.183</td><td>0.272</td><td>0.327</td><td>1.000</td><td>0.063</td></tr>\n",
       "\t<tr><th scope=row>Income</th><td>0.019</td><td>0.122</td><td>0.053</td><td>0.063</td><td>1.000</td></tr>\n",
       "</tbody>\n",
       "</table>\n"
      ],
      "text/latex": [
       "\\begin{tabular}{r|lllll}\n",
       "  & Age & Debt & YearsEmployed & CreditScore & Income\\\\\n",
       "\\hline\n",
       "\tAge & 1.000 & 0.149 & 0.395 & 0.183 & 0.019\\\\\n",
       "\tDebt & 0.149 & 1.000 & 0.301 & 0.272 & 0.122\\\\\n",
       "\tYearsEmployed & 0.395 & 0.301 & 1.000 & 0.327 & 0.053\\\\\n",
       "\tCreditScore & 0.183 & 0.272 & 0.327 & 1.000 & 0.063\\\\\n",
       "\tIncome & 0.019 & 0.122 & 0.053 & 0.063 & 1.000\\\\\n",
       "\\end{tabular}\n"
      ],
      "text/markdown": [
       "\n",
       "| <!--/--> | Age | Debt | YearsEmployed | CreditScore | Income | \n",
       "|---|---|---|---|---|\n",
       "| Age | 1.000 | 0.149 | 0.395 | 0.183 | 0.019 | \n",
       "| Debt | 0.149 | 1.000 | 0.301 | 0.272 | 0.122 | \n",
       "| YearsEmployed | 0.395 | 0.301 | 1.000 | 0.327 | 0.053 | \n",
       "| CreditScore | 0.183 | 0.272 | 0.327 | 1.000 | 0.063 | \n",
       "| Income | 0.019 | 0.122 | 0.053 | 0.063 | 1.000 | \n",
       "\n",
       "\n"
      ],
      "text/plain": [
       "              Age   Debt  YearsEmployed CreditScore Income\n",
       "Age           1.000 0.149 0.395         0.183       0.019 \n",
       "Debt          0.149 1.000 0.301         0.272       0.122 \n",
       "YearsEmployed 0.395 0.301 1.000         0.327       0.053 \n",
       "CreditScore   0.183 0.272 0.327         1.000       0.063 \n",
       "Income        0.019 0.122 0.053         0.063       1.000 "
      ]
     },
     "metadata": {},
     "output_type": "display_data"
    },
    {
     "data": {
      "text/html": [
       "<dl class=dl-horizontal>\n",
       "\t<dt>(Intercept)</dt>\n",
       "\t\t<dd>124.693475933034</dd>\n",
       "\t<dt>YearsEmployed</dt>\n",
       "\t\t<dd>11.0096259767489</dd>\n",
       "</dl>\n"
      ],
      "text/latex": [
       "\\begin{description*}\n",
       "\\item[(Intercept)] 124.693475933034\n",
       "\\item[YearsEmployed] 11.0096259767489\n",
       "\\end{description*}\n"
      ],
      "text/markdown": [
       "(Intercept)\n",
       ":   124.693475933034YearsEmployed\n",
       ":   11.0096259767489\n",
       "\n"
      ],
      "text/plain": [
       "  (Intercept) YearsEmployed \n",
       "    124.69348      11.00963 "
      ]
     },
     "metadata": {},
     "output_type": "display_data"
    }
   ],
   "source": [
    "## Imputation numerical variables\n",
    "\n",
    "# Transforming Age into numerical value\n",
    "credit_df$Age<-as.numeric(credit_df$Age)\n",
    "\n",
    "## Imputation Age\n",
    "mean_age<- mean(credit_df$Age,na.rm=T)\n",
    "\n",
    "# Use correlation among numerical variables to predict missing age values\n",
    "Numeric\t<- credit_df[,c(2:3,8,11,15)]\n",
    "colnames(Numeric)\n",
    "\n",
    "round(cor(Numeric,use=\"complete.obs\"),3)\n",
    "#  The largest value in the first row is 0.395 meaning age is most closely correlated with YearsEmployed. \n",
    "\n",
    "age_imputate<-lm(Age~YearsEmployed, data=credit_df, na.action=na.exclude)\n",
    "age_imputate$coefficients\n",
    "age_missing_index<-which(is.na(credit_df$Age))\n",
    "credit_df$Age[age_missing_index]<- predict(age_imputate,newdata=credit_df[age_missing_index,])"
   ]
  },
  {
   "cell_type": "code",
   "execution_count": 5,
   "metadata": {
    "scrolled": true
   },
   "outputs": [
    {
     "data": {
      "text/html": [
       "<dl class=dl-horizontal>\n",
       "\t<dt>Gender</dt>\n",
       "\t\t<dd>12</dd>\n",
       "\t<dt>Age</dt>\n",
       "\t\t<dd>0</dd>\n",
       "\t<dt>Debt</dt>\n",
       "\t\t<dd>0</dd>\n",
       "\t<dt>Married</dt>\n",
       "\t\t<dd>6</dd>\n",
       "\t<dt>BankCustomer</dt>\n",
       "\t\t<dd>6</dd>\n",
       "\t<dt>EducationLevel</dt>\n",
       "\t\t<dd>9</dd>\n",
       "\t<dt>Ethnicity</dt>\n",
       "\t\t<dd>9</dd>\n",
       "\t<dt>YearsEmployed</dt>\n",
       "\t\t<dd>0</dd>\n",
       "\t<dt>PriorDefault</dt>\n",
       "\t\t<dd>0</dd>\n",
       "\t<dt>Employed</dt>\n",
       "\t\t<dd>0</dd>\n",
       "\t<dt>CreditScore</dt>\n",
       "\t\t<dd>0</dd>\n",
       "\t<dt>DriversLicense</dt>\n",
       "\t\t<dd>0</dd>\n",
       "\t<dt>Citizen</dt>\n",
       "\t\t<dd>0</dd>\n",
       "\t<dt>ZipCode</dt>\n",
       "\t\t<dd>13</dd>\n",
       "\t<dt>Income</dt>\n",
       "\t\t<dd>0</dd>\n",
       "\t<dt>ApprovalStatus</dt>\n",
       "\t\t<dd>0</dd>\n",
       "</dl>\n"
      ],
      "text/latex": [
       "\\begin{description*}\n",
       "\\item[Gender] 12\n",
       "\\item[Age] 0\n",
       "\\item[Debt] 0\n",
       "\\item[Married] 6\n",
       "\\item[BankCustomer] 6\n",
       "\\item[EducationLevel] 9\n",
       "\\item[Ethnicity] 9\n",
       "\\item[YearsEmployed] 0\n",
       "\\item[PriorDefault] 0\n",
       "\\item[Employed] 0\n",
       "\\item[CreditScore] 0\n",
       "\\item[DriversLicense] 0\n",
       "\\item[Citizen] 0\n",
       "\\item[ZipCode] 13\n",
       "\\item[Income] 0\n",
       "\\item[ApprovalStatus] 0\n",
       "\\end{description*}\n"
      ],
      "text/markdown": [
       "Gender\n",
       ":   12Age\n",
       ":   0Debt\n",
       ":   0Married\n",
       ":   6BankCustomer\n",
       ":   6EducationLevel\n",
       ":   9Ethnicity\n",
       ":   9YearsEmployed\n",
       ":   0PriorDefault\n",
       ":   0Employed\n",
       ":   0CreditScore\n",
       ":   0DriversLicense\n",
       ":   0Citizen\n",
       ":   0ZipCode\n",
       ":   13Income\n",
       ":   0ApprovalStatus\n",
       ":   0\n",
       "\n"
      ],
      "text/plain": [
       "        Gender            Age           Debt        Married   BankCustomer \n",
       "            12              0              0              6              6 \n",
       "EducationLevel      Ethnicity  YearsEmployed   PriorDefault       Employed \n",
       "             9              9              0              0              0 \n",
       "   CreditScore DriversLicense        Citizen        ZipCode         Income \n",
       "             0              0              0             13              0 \n",
       "ApprovalStatus \n",
       "             0 "
      ]
     },
     "metadata": {},
     "output_type": "display_data"
    }
   ],
   "source": [
    "colSums(is.na(credit_df))"
   ]
  },
  {
   "cell_type": "code",
   "execution_count": 6,
   "metadata": {
    "scrolled": true
   },
   "outputs": [
    {
     "data": {
      "text/html": [
       "<table>\n",
       "<thead><tr><th></th><th scope=col>Gender</th><th scope=col>Age</th><th scope=col>Debt</th><th scope=col>Married</th><th scope=col>BankCustomer</th><th scope=col>EducationLevel</th><th scope=col>Ethnicity</th><th scope=col>YearsEmployed</th><th scope=col>PriorDefault</th><th scope=col>Employed</th><th scope=col>CreditScore</th><th scope=col>DriversLicense</th><th scope=col>Citizen</th><th scope=col>ZipCode</th><th scope=col>Income</th><th scope=col>ApprovalStatus</th></tr></thead>\n",
       "<tbody>\n",
       "\t<tr><th scope=row>674</th><td>NA </td><td>142</td><td>2  </td><td>y  </td><td>p  </td><td>e  </td><td>h  </td><td>2  </td><td>f  </td><td>f  </td><td>0  </td><td>f  </td><td>g  </td><td>256</td><td>17 </td><td>-  </td></tr>\n",
       "</tbody>\n",
       "</table>\n"
      ],
      "text/latex": [
       "\\begin{tabular}{r|llllllllllllllll}\n",
       "  & Gender & Age & Debt & Married & BankCustomer & EducationLevel & Ethnicity & YearsEmployed & PriorDefault & Employed & CreditScore & DriversLicense & Citizen & ZipCode & Income & ApprovalStatus\\\\\n",
       "\\hline\n",
       "\t674 & NA  & 142 & 2   & y   & p   & e   & h   & 2   & f   & f   & 0   & f   & g   & 256 & 17  & -  \\\\\n",
       "\\end{tabular}\n"
      ],
      "text/markdown": [
       "\n",
       "| <!--/--> | Gender | Age | Debt | Married | BankCustomer | EducationLevel | Ethnicity | YearsEmployed | PriorDefault | Employed | CreditScore | DriversLicense | Citizen | ZipCode | Income | ApprovalStatus | \n",
       "|---|\n",
       "| 674 | NA  | 142 | 2   | y   | p   | e   | h   | 2   | f   | f   | 0   | f   | g   | 256 | 17  | -   | \n",
       "\n",
       "\n"
      ],
      "text/plain": [
       "    Gender Age Debt Married BankCustomer EducationLevel Ethnicity YearsEmployed\n",
       "674 NA     142 2    y       p            e              h         2            \n",
       "    PriorDefault Employed CreditScore DriversLicense Citizen ZipCode Income\n",
       "674 f            f        0           f              g       256     17    \n",
       "    ApprovalStatus\n",
       "674 -             "
      ]
     },
     "metadata": {},
     "output_type": "display_data"
    },
    {
     "data": {
      "text/html": [
       "<table>\n",
       "<thead><tr><th></th><th scope=col>Gender</th><th scope=col>Age</th><th scope=col>Debt</th><th scope=col>Married</th><th scope=col>BankCustomer</th><th scope=col>EducationLevel</th><th scope=col>Ethnicity</th><th scope=col>YearsEmployed</th><th scope=col>PriorDefault</th><th scope=col>Employed</th><th scope=col>CreditScore</th><th scope=col>DriversLicense</th><th scope=col>Citizen</th><th scope=col>ZipCode</th><th scope=col>Income</th><th scope=col>ApprovalStatus</th></tr></thead>\n",
       "<tbody>\n",
       "\t<tr><th scope=row>674</th><td>b  </td><td>142</td><td>2  </td><td>y  </td><td>p  </td><td>e  </td><td>h  </td><td>2  </td><td>f  </td><td>f  </td><td>0  </td><td>f  </td><td>g  </td><td>256</td><td>17 </td><td>-  </td></tr>\n",
       "</tbody>\n",
       "</table>\n"
      ],
      "text/latex": [
       "\\begin{tabular}{r|llllllllllllllll}\n",
       "  & Gender & Age & Debt & Married & BankCustomer & EducationLevel & Ethnicity & YearsEmployed & PriorDefault & Employed & CreditScore & DriversLicense & Citizen & ZipCode & Income & ApprovalStatus\\\\\n",
       "\\hline\n",
       "\t674 & b   & 142 & 2   & y   & p   & e   & h   & 2   & f   & f   & 0   & f   & g   & 256 & 17  & -  \\\\\n",
       "\\end{tabular}\n"
      ],
      "text/markdown": [
       "\n",
       "| <!--/--> | Gender | Age | Debt | Married | BankCustomer | EducationLevel | Ethnicity | YearsEmployed | PriorDefault | Employed | CreditScore | DriversLicense | Citizen | ZipCode | Income | ApprovalStatus | \n",
       "|---|\n",
       "| 674 | b   | 142 | 2   | y   | p   | e   | h   | 2   | f   | f   | 0   | f   | g   | 256 | 17  | -   | \n",
       "\n",
       "\n"
      ],
      "text/plain": [
       "    Gender Age Debt Married BankCustomer EducationLevel Ethnicity YearsEmployed\n",
       "674 b      142 2    y       p            e              h         2            \n",
       "    PriorDefault Employed CreditScore DriversLicense Citizen ZipCode Income\n",
       "674 f            f        0           f              g       256     17    \n",
       "    ApprovalStatus\n",
       "674 -             "
      ]
     },
     "metadata": {},
     "output_type": "display_data"
    },
    {
     "data": {
      "text/html": [
       "<dl class=dl-horizontal>\n",
       "\t<dt>Gender</dt>\n",
       "\t\t<dd>0</dd>\n",
       "\t<dt>Age</dt>\n",
       "\t\t<dd>0</dd>\n",
       "\t<dt>Debt</dt>\n",
       "\t\t<dd>0</dd>\n",
       "\t<dt>Married</dt>\n",
       "\t\t<dd>0</dd>\n",
       "\t<dt>BankCustomer</dt>\n",
       "\t\t<dd>0</dd>\n",
       "\t<dt>EducationLevel</dt>\n",
       "\t\t<dd>0</dd>\n",
       "\t<dt>Ethnicity</dt>\n",
       "\t\t<dd>0</dd>\n",
       "\t<dt>YearsEmployed</dt>\n",
       "\t\t<dd>0</dd>\n",
       "\t<dt>PriorDefault</dt>\n",
       "\t\t<dd>0</dd>\n",
       "\t<dt>Employed</dt>\n",
       "\t\t<dd>0</dd>\n",
       "\t<dt>CreditScore</dt>\n",
       "\t\t<dd>0</dd>\n",
       "\t<dt>DriversLicense</dt>\n",
       "\t\t<dd>0</dd>\n",
       "\t<dt>Citizen</dt>\n",
       "\t\t<dd>0</dd>\n",
       "\t<dt>ZipCode</dt>\n",
       "\t\t<dd>0</dd>\n",
       "\t<dt>Income</dt>\n",
       "\t\t<dd>0</dd>\n",
       "\t<dt>ApprovalStatus</dt>\n",
       "\t\t<dd>0</dd>\n",
       "</dl>\n"
      ],
      "text/latex": [
       "\\begin{description*}\n",
       "\\item[Gender] 0\n",
       "\\item[Age] 0\n",
       "\\item[Debt] 0\n",
       "\\item[Married] 0\n",
       "\\item[BankCustomer] 0\n",
       "\\item[EducationLevel] 0\n",
       "\\item[Ethnicity] 0\n",
       "\\item[YearsEmployed] 0\n",
       "\\item[PriorDefault] 0\n",
       "\\item[Employed] 0\n",
       "\\item[CreditScore] 0\n",
       "\\item[DriversLicense] 0\n",
       "\\item[Citizen] 0\n",
       "\\item[ZipCode] 0\n",
       "\\item[Income] 0\n",
       "\\item[ApprovalStatus] 0\n",
       "\\end{description*}\n"
      ],
      "text/markdown": [
       "Gender\n",
       ":   0Age\n",
       ":   0Debt\n",
       ":   0Married\n",
       ":   0BankCustomer\n",
       ":   0EducationLevel\n",
       ":   0Ethnicity\n",
       ":   0YearsEmployed\n",
       ":   0PriorDefault\n",
       ":   0Employed\n",
       ":   0CreditScore\n",
       ":   0DriversLicense\n",
       ":   0Citizen\n",
       ":   0ZipCode\n",
       ":   0Income\n",
       ":   0ApprovalStatus\n",
       ":   0\n",
       "\n"
      ],
      "text/plain": [
       "        Gender            Age           Debt        Married   BankCustomer \n",
       "             0              0              0              0              0 \n",
       "EducationLevel      Ethnicity  YearsEmployed   PriorDefault       Employed \n",
       "             0              0              0              0              0 \n",
       "   CreditScore DriversLicense        Citizen        ZipCode         Income \n",
       "             0              0              0              0              0 \n",
       "ApprovalStatus \n",
       "             0 "
      ]
     },
     "metadata": {},
     "output_type": "display_data"
    }
   ],
   "source": [
    "## Imputation Categorical variables\n",
    "\n",
    "# tracking value before imputation\n",
    "credit_df[674,]\n",
    "\n",
    "# Generating a mode function were the input is called data and it is in the form df$column\n",
    "mode <- function(data){\n",
    "    val <- unique(data[!is.na(data)])  \n",
    "    output <- val[which.max(tabulate(match(data, val)))] \n",
    "    return(output) \n",
    "}\n",
    "\n",
    "\n",
    "# Using the apply function to run the mode function accross the columns in the dataframe\n",
    "categorical_col <- c(1,4:7,9:10,12:14)\n",
    "credit_df[categorical_col]<- lapply(credit_df[categorical_col],function(x) { x[is.na(x)] <- mode(x); x})\n",
    "\n",
    "\n",
    "#credit_df$Gender[is.na(credit_df$Gender)] <- mode(credit_df$Gender) \n",
    "#df1[,subset1] <- as.data.frame(lapply(df1[,subset1],function(x) { x[is.na(x)] <- 0; x}\n",
    "\n",
    "# tracking value after imputation\n",
    "credit_df[674,]\n",
    "\n",
    "colSums(is.na(credit_df))"
   ]
  },
  {
   "cell_type": "markdown",
   "metadata": {},
   "source": [
    "## 6. Preprocessing the data (Label Encoding)\n",
    "\n",
    "We will be converting all the non-numeric values into numeric ones using label encoding. \n"
   ]
  },
  {
   "cell_type": "code",
   "execution_count": 7,
   "metadata": {},
   "outputs": [
    {
     "name": "stdout",
     "output_type": "stream",
     "text": [
      "'data.frame':\t690 obs. of  16 variables:\n",
      " $ Gender        : Factor w/ 2 levels \"0\",\"1\": 1 2 2 1 1 1 1 2 1 1 ...\n",
      " $ Age           : num  158 330 91 127 45 170 181 76 312 257 ...\n",
      " $ Debt          : num  0 4.46 0.5 1.54 5.62 ...\n",
      " $ Married       : Factor w/ 3 levels \"l\",\"u\",\"y\": 2 2 2 2 2 2 2 2 3 3 ...\n",
      " $ BankCustomer  : Factor w/ 3 levels \"g\",\"gg\",\"p\": 1 1 1 1 1 1 1 1 3 3 ...\n",
      " $ EducationLevel: Factor w/ 14 levels \"aa\",\"c\",\"cc\",..: 13 11 11 13 13 10 12 3 9 13 ...\n",
      " $ Ethnicity     : Factor w/ 9 levels \"bb\",\"dd\",\"ff\",..: 8 4 4 8 8 8 4 8 4 8 ...\n",
      " $ YearsEmployed : num  1.25 3.04 1.5 3.75 1.71 ...\n",
      " $ PriorDefault  : Factor w/ 2 levels \"0\",\"1\": 2 2 2 2 2 2 2 2 2 2 ...\n",
      " $ Employed      : Factor w/ 2 levels \"0\",\"1\": 2 2 1 2 1 1 1 1 1 1 ...\n",
      " $ CreditScore   : int  1 6 0 5 0 0 0 0 0 0 ...\n",
      " $ DriversLicense: Factor w/ 2 levels \"f\",\"t\": 1 1 1 2 1 2 2 1 1 2 ...\n",
      " $ Citizen       : Factor w/ 3 levels \"g\",\"p\",\"s\": 1 1 1 1 3 1 1 1 1 1 ...\n",
      " $ ZipCode       : Factor w/ 170 levels \"0\",\"100\",\"102\",..: 43 119 75 2 9 97 26 160 35 141 ...\n",
      " $ Income        : int  0 560 824 3 0 0 31285 1349 314 1442 ...\n",
      " $ ApprovalStatus: Factor w/ 2 levels \"0\",\"1\": 2 2 2 2 2 2 2 2 2 2 ...\n"
     ]
    }
   ],
   "source": [
    "# Convert binary values to 1 or 0\n",
    "credit_df$Gender <- factor(ifelse(credit_df$Gender==\"a\",1,0))\n",
    "credit_df$Employed <- factor(ifelse(credit_df$Employed==\"t\",1,0))\n",
    "credit_df$PriorDefault<- factor(ifelse(credit_df$PriorDefault==\"t\",1,0))\n",
    "credit_df$ApprovalStatus <- factor(ifelse(credit_df$ApprovalStatus==\"+\",1,0))\n",
    "\n",
    "str(credit_df)"
   ]
  },
  {
   "cell_type": "markdown",
   "metadata": {},
   "source": [
    "## 7. Splitting the dataset into train and test sets and Feature selection\n",
    "\n",
    "<p>Now, we will split our data into train and test sets. \n",
    "Ideally, no information from the test data should be used to scale the training data or should be used to direct the training process of a machine learning model. Hence, we first split the data and then apply the scaling.\n",
    "<p>Also, features like <code>DriversLicense</code> and <code>ZipCode</code> are not as important as the other features in the dataset for predicting credit card approvals. We should drop them to design our machine learning model with the best set of features."
   ]
  },
  {
   "cell_type": "code",
   "execution_count": 8,
   "metadata": {},
   "outputs": [
    {
     "data": {
      "text/html": [
       "<ol class=list-inline>\n",
       "\t<li>517</li>\n",
       "\t<li>14</li>\n",
       "</ol>\n"
      ],
      "text/latex": [
       "\\begin{enumerate*}\n",
       "\\item 517\n",
       "\\item 14\n",
       "\\end{enumerate*}\n"
      ],
      "text/markdown": [
       "1. 517\n",
       "2. 14\n",
       "\n",
       "\n"
      ],
      "text/plain": [
       "[1] 517  14"
      ]
     },
     "metadata": {},
     "output_type": "display_data"
    },
    {
     "data": {
      "text/html": [
       "<ol class=list-inline>\n",
       "\t<li>173</li>\n",
       "\t<li>14</li>\n",
       "</ol>\n"
      ],
      "text/latex": [
       "\\begin{enumerate*}\n",
       "\\item 173\n",
       "\\item 14\n",
       "\\end{enumerate*}\n"
      ],
      "text/markdown": [
       "1. 173\n",
       "2. 14\n",
       "\n",
       "\n"
      ],
      "text/plain": [
       "[1] 173  14"
      ]
     },
     "metadata": {},
     "output_type": "display_data"
    }
   ],
   "source": [
    "# Drop the features 'DriversLicense', 'ZipCode'\n",
    "credit_df = credit_df[-c(12,14)]\n",
    "\n",
    "# Split data in training a testing datasets\n",
    "library(caTools)\n",
    "set.seed(123)\n",
    "split<- sample.split(credit_df$ApprovalStatus, SplitRatio=0.75)\n",
    "Train<- subset(credit_df,split==TRUE)\n",
    "Test <- subset(credit_df, split==FALSE)\n",
    "\n",
    "# New dataframes shape\n",
    "dim(Train)\n",
    "dim(Test)"
   ]
  },
  {
   "cell_type": "code",
   "execution_count": 9,
   "metadata": {},
   "outputs": [
    {
     "data": {
      "text/plain": [
       "\n",
       "  0   1 \n",
       "287 230 "
      ]
     },
     "metadata": {},
     "output_type": "display_data"
    }
   ],
   "source": [
    "# Get success rates in training set\n",
    "table(Train$ApprovalStatus)"
   ]
  },
  {
   "cell_type": "markdown",
   "metadata": {},
   "source": [
    "## 8. Preprocessing the data (Rescaling Data to an uniform range)\n",
    "\n",
    "We are only left with one final preprocessing step of scaling data between 0-1 before we can fit a machine learning model to the data.\n",
    "\n",
    "For example, the credit score, CreditScore, of a person is their creditworthiness based on their credit history. The higher this number, the more financially trustworthy a person is considered to be. So, a CreditScore of 1 is the highest since we're rescaling all the values to the range of 0-1."
   ]
  },
  {
   "cell_type": "code",
   "execution_count": 10,
   "metadata": {},
   "outputs": [],
   "source": [
    "# We dont need to rescale for R"
   ]
  },
  {
   "cell_type": "markdown",
   "metadata": {},
   "source": [
    "## 9. Fitting a logistic regression model to the train set\n",
    "<p>Essentially, predicting if a credit card application will be approved or not is a <a href=\"https://en.wikipedia.org/wiki/Statistical_classification\">classification</a> task. <a href=\"http://archive.ics.uci.edu/ml/machine-learning-databases/credit-screening/crx.names\">According to UCI</a>, our dataset contains more instances that correspond to \"Denied\" status than instances corresponding to \"Approved\" status. Specifically, out of 690 instances, there are 383 (55.5%) applications that got denied and 307 (44.5%) applications that got approved. </p>\n",
    "<p>This gives us a benchmark. A good machine learning model should be able to accurately predict the status of the applications with respect to these statistics.</p>\n",
    "<p>Which model should we pick? A question to ask is: <em>are the features that affect the credit card approval decision process correlated with each other?</em> they indeed are correlated. Because of this correlation, we'll take advantage of the fact that generalized linear models perform well in these cases. Let's start our machine learning modeling with a Logistic Regression model (a generalized linear model).</p>"
   ]
  },
  {
   "cell_type": "code",
   "execution_count": 11,
   "metadata": {},
   "outputs": [
    {
     "name": "stderr",
     "output_type": "stream",
     "text": [
      "Warning message:\n",
      "“glm.fit: fitted probabilities numerically 0 or 1 occurred”"
     ]
    },
    {
     "data": {
      "text/plain": [
       "\n",
       "Call:\n",
       "glm(formula = ApprovalStatus ~ ., family = binomial, data = Train)\n",
       "\n",
       "Deviance Residuals: \n",
       "    Min       1Q   Median       3Q      Max  \n",
       "-2.4169  -0.2962  -0.1246   0.4502   3.0000  \n",
       "\n",
       "Coefficients: (2 not defined because of singularities)\n",
       "                   Estimate Std. Error z value Pr(>|z|)    \n",
       "(Intercept)       1.140e+01  1.455e+03   0.008 0.993750    \n",
       "Gender1           2.079e-01  3.700e-01   0.562 0.574188    \n",
       "Age               7.729e-05  1.943e-03   0.040 0.968271    \n",
       "Debt             -1.825e-02  3.354e-02  -0.544 0.586474    \n",
       "Marriedu         -1.550e+01  1.455e+03  -0.011 0.991504    \n",
       "Marriedy         -1.617e+01  1.455e+03  -0.011 0.991136    \n",
       "BankCustomergg           NA         NA      NA       NA    \n",
       "BankCustomerp            NA         NA      NA       NA    \n",
       "EducationLevelc   2.142e-01  5.904e-01   0.363 0.716725    \n",
       "EducationLevelcc  1.281e+00  8.825e-01   1.452 0.146566    \n",
       "EducationLeveld   2.205e-01  8.935e-01   0.247 0.805092    \n",
       "EducationLevele   1.817e+00  1.296e+00   1.402 0.160867    \n",
       "EducationLevelff -3.940e+00  2.298e+00  -1.715 0.086398 .  \n",
       "EducationLeveli  -3.819e-01  8.318e-01  -0.459 0.646130    \n",
       "EducationLevelj  -3.775e+00  2.374e+00  -1.590 0.111871    \n",
       "EducationLevelk  -3.282e-01  7.130e-01  -0.460 0.645333    \n",
       "EducationLevelm   4.999e-01  7.865e-01   0.636 0.525098    \n",
       "EducationLevelq   7.737e-01  6.435e-01   1.202 0.229245    \n",
       "EducationLevelr  -9.230e+00  1.679e+02  -0.055 0.956146    \n",
       "EducationLevelw   6.325e-01  6.593e-01   0.959 0.337384    \n",
       "EducationLevelx   1.043e+00  8.831e-01   1.182 0.237368    \n",
       "Ethnicitydd      -7.459e-01  1.941e+00  -0.384 0.700799    \n",
       "Ethnicityff       2.542e+00  2.166e+00   1.173 0.240623    \n",
       "Ethnicityh        4.233e-01  6.824e-01   0.620 0.535012    \n",
       "Ethnicityj        5.395e+00  2.258e+00   2.390 0.016870 *  \n",
       "Ethnicityn        3.040e+00  1.634e+00   1.860 0.062920 .  \n",
       "Ethnicityo       -5.754e+01  2.058e+03  -0.028 0.977698    \n",
       "Ethnicityv        4.043e-01  6.283e-01   0.643 0.519966    \n",
       "Ethnicityz       -2.662e+00  1.936e+00  -1.375 0.169080    \n",
       "YearsEmployed     3.642e-02  5.351e-02   0.681 0.496106    \n",
       "PriorDefault1     4.010e+00  4.343e-01   9.233  < 2e-16 ***\n",
       "Employed1         4.520e-01  4.305e-01   1.050 0.293690    \n",
       "CreditScore       1.418e-01  7.260e-02   1.952 0.050887 .  \n",
       "Citizenp          3.393e+00  9.893e-01   3.429 0.000606 ***\n",
       "Citizens         -2.246e-01  5.440e-01  -0.413 0.679734    \n",
       "Income            6.265e-04  2.101e-04   2.982 0.002864 ** \n",
       "---\n",
       "Signif. codes:  0 ‘***’ 0.001 ‘**’ 0.01 ‘*’ 0.05 ‘.’ 0.1 ‘ ’ 1\n",
       "\n",
       "(Dispersion parameter for binomial family taken to be 1)\n",
       "\n",
       "    Null deviance: 710.42  on 516  degrees of freedom\n",
       "Residual deviance: 297.45  on 483  degrees of freedom\n",
       "AIC: 365.45\n",
       "\n",
       "Number of Fisher Scoring iterations: 14\n"
      ]
     },
     "metadata": {},
     "output_type": "display_data"
    }
   ],
   "source": [
    "# Create logrithmic regresion model = base model\n",
    "logreg<- glm(ApprovalStatus~., data=Train,family=binomial)\n",
    "\n",
    "summary(logreg)"
   ]
  },
  {
   "cell_type": "markdown",
   "metadata": {},
   "source": [
    "## 10. Making predictions and evaluating performance\n",
    "But how well does our model perform?\n",
    "\n",
    "We will now evaluate our model on the test set with respect to classification accuracy. But we will also take a look the model's confusion matrix. In the case of predicting credit card applications, it is equally important to see if our machine learning model is able to predict the approval status of the applications as denied that originally got denied. If our model is not performing well in this aspect, then it might end up approving the application that should have been approved. The confusion matrix helps us to view our model's performance from these aspects.\n",
    "\n",
    "- Our model was pretty good! It was able to yield an accuracy score of almost 84%.</p>\n",
    "- For the confusion matrix, the first element of the of the first row of the confusion matrix denotes the true negatives meaning the number of negative instances (denied applications) predicted by the model correctly. And the last element of the second row of the confusion matrix denotes the true positives meaning the number of positive instances (approved applications) predicted by the model correctly.</p>"
   ]
  },
  {
   "cell_type": "code",
   "execution_count": 12,
   "metadata": {},
   "outputs": [
    {
     "name": "stderr",
     "output_type": "stream",
     "text": [
      "Warning message in predict.lm(object, newdata, se.fit, scale = 1, type = ifelse(type == :\n",
      "“prediction from a rank-deficient fit may be misleading”"
     ]
    },
    {
     "data": {
      "text/plain": [
       "   \n",
       "    FALSE TRUE\n",
       "  0    81   15\n",
       "  1     9   68"
      ]
     },
     "metadata": {},
     "output_type": "display_data"
    }
   ],
   "source": [
    "# Apply the model to the test set\n",
    "logreg_predict<-predict(logreg, newdata=Test,type=\"response\")\n",
    "\n",
    "\n",
    "# Create a confusion Matrix\n",
    "table(Test$ApprovalStatus,logreg_predict>0.5)"
   ]
  },
  {
   "cell_type": "markdown",
   "metadata": {},
   "source": [
    "## 11. Stepwise and making the model perform better\n",
    "\n",
    "<p>Let's see if we can do better. We can perform a stepwise selection of the model parameters to improve the model's ability to predict credit card approvals.</p>\n"
   ]
  },
  {
   "cell_type": "code",
   "execution_count": 13,
   "metadata": {},
   "outputs": [
    {
     "name": "stdout",
     "output_type": "stream",
     "text": [
      "Start:  AIC=365.45\n",
      "ApprovalStatus ~ Gender + Age + Debt + Married + BankCustomer + \n",
      "    EducationLevel + Ethnicity + YearsEmployed + PriorDefault + \n",
      "    Employed + CreditScore + Citizen + Income\n",
      "\n"
     ]
    },
    {
     "name": "stderr",
     "output_type": "stream",
     "text": [
      "Warning message:\n",
      "“glm.fit: fitted probabilities numerically 0 or 1 occurred”Warning message:\n",
      "“glm.fit: fitted probabilities numerically 0 or 1 occurred”Warning message:\n",
      "“glm.fit: fitted probabilities numerically 0 or 1 occurred”Warning message:\n",
      "“glm.fit: fitted probabilities numerically 0 or 1 occurred”Warning message:\n",
      "“glm.fit: fitted probabilities numerically 0 or 1 occurred”Warning message:\n",
      "“glm.fit: fitted probabilities numerically 0 or 1 occurred”Warning message:\n",
      "“glm.fit: fitted probabilities numerically 0 or 1 occurred”Warning message:\n",
      "“glm.fit: fitted probabilities numerically 0 or 1 occurred”Warning message:\n",
      "“glm.fit: fitted probabilities numerically 0 or 1 occurred”Warning message:\n",
      "“glm.fit: fitted probabilities numerically 0 or 1 occurred”Warning message:\n",
      "“glm.fit: fitted probabilities numerically 0 or 1 occurred”Warning message:\n",
      "“glm.fit: fitted probabilities numerically 0 or 1 occurred”"
     ]
    },
    {
     "name": "stdout",
     "output_type": "stream",
     "text": [
      "\n",
      "Step:  AIC=365.45\n",
      "ApprovalStatus ~ Gender + Age + Debt + Married + EducationLevel + \n",
      "    Ethnicity + YearsEmployed + PriorDefault + Employed + CreditScore + \n",
      "    Citizen + Income\n",
      "\n"
     ]
    },
    {
     "name": "stderr",
     "output_type": "stream",
     "text": [
      "Warning message:\n",
      "“glm.fit: fitted probabilities numerically 0 or 1 occurred”Warning message:\n",
      "“glm.fit: fitted probabilities numerically 0 or 1 occurred”Warning message:\n",
      "“glm.fit: fitted probabilities numerically 0 or 1 occurred”Warning message:\n",
      "“glm.fit: fitted probabilities numerically 0 or 1 occurred”Warning message:\n",
      "“glm.fit: fitted probabilities numerically 0 or 1 occurred”Warning message:\n",
      "“glm.fit: fitted probabilities numerically 0 or 1 occurred”Warning message:\n",
      "“glm.fit: fitted probabilities numerically 0 or 1 occurred”Warning message:\n",
      "“glm.fit: fitted probabilities numerically 0 or 1 occurred”Warning message:\n",
      "“glm.fit: fitted probabilities numerically 0 or 1 occurred”Warning message:\n",
      "“glm.fit: fitted probabilities numerically 0 or 1 occurred”"
     ]
    },
    {
     "name": "stdout",
     "output_type": "stream",
     "text": [
      "                 Df Deviance    AIC\n",
      "- EducationLevel 13   309.90 351.90\n",
      "- Ethnicity       8   307.97 359.97\n",
      "- Age             1   297.45 363.45\n",
      "- Debt            1   297.74 363.74\n",
      "- Gender          1   297.76 363.76\n",
      "- YearsEmployed   1   297.92 363.92\n",
      "- Employed        1   298.54 364.54\n",
      "<none>                297.45 365.45\n",
      "- Married         2   301.54 365.54\n",
      "- CreditScore     1   302.34 368.34\n",
      "- Citizen         2   308.14 372.14\n",
      "- Income          1   313.76 379.76\n",
      "- PriorDefault    1   440.49 506.49\n"
     ]
    },
    {
     "name": "stderr",
     "output_type": "stream",
     "text": [
      "Warning message:\n",
      "“glm.fit: fitted probabilities numerically 0 or 1 occurred”"
     ]
    },
    {
     "name": "stdout",
     "output_type": "stream",
     "text": [
      "\n",
      "Step:  AIC=351.9\n",
      "ApprovalStatus ~ Gender + Age + Debt + Married + Ethnicity + \n",
      "    YearsEmployed + PriorDefault + Employed + CreditScore + Citizen + \n",
      "    Income\n",
      "\n"
     ]
    },
    {
     "name": "stderr",
     "output_type": "stream",
     "text": [
      "Warning message:\n",
      "“glm.fit: fitted probabilities numerically 0 or 1 occurred”Warning message:\n",
      "“glm.fit: fitted probabilities numerically 0 or 1 occurred”Warning message:\n",
      "“glm.fit: fitted probabilities numerically 0 or 1 occurred”Warning message:\n",
      "“glm.fit: fitted probabilities numerically 0 or 1 occurred”Warning message:\n",
      "“glm.fit: fitted probabilities numerically 0 or 1 occurred”Warning message:\n",
      "“glm.fit: fitted probabilities numerically 0 or 1 occurred”Warning message:\n",
      "“glm.fit: fitted probabilities numerically 0 or 1 occurred”Warning message:\n",
      "“glm.fit: fitted probabilities numerically 0 or 1 occurred”"
     ]
    },
    {
     "name": "stdout",
     "output_type": "stream",
     "text": [
      "                Df Deviance    AIC\n",
      "- Gender         1   309.90 349.90\n",
      "- Age            1   309.91 349.91\n",
      "- Debt           1   310.31 350.31\n",
      "- YearsEmployed  1   310.84 350.84\n",
      "- Ethnicity      8   325.60 351.60\n",
      "<none>               309.90 351.90\n",
      "- Employed       1   312.33 352.33\n",
      "- CreditScore    1   314.67 354.67\n",
      "- Citizen        2   320.67 358.67\n",
      "- Married        2   322.36 360.36\n",
      "- Income         1   326.96 366.96\n",
      "- PriorDefault   1   467.89 507.89\n"
     ]
    },
    {
     "name": "stderr",
     "output_type": "stream",
     "text": [
      "Warning message:\n",
      "“glm.fit: fitted probabilities numerically 0 or 1 occurred”"
     ]
    },
    {
     "name": "stdout",
     "output_type": "stream",
     "text": [
      "\n",
      "Step:  AIC=349.9\n",
      "ApprovalStatus ~ Age + Debt + Married + Ethnicity + YearsEmployed + \n",
      "    PriorDefault + Employed + CreditScore + Citizen + Income\n",
      "\n"
     ]
    },
    {
     "name": "stderr",
     "output_type": "stream",
     "text": [
      "Warning message:\n",
      "“glm.fit: fitted probabilities numerically 0 or 1 occurred”Warning message:\n",
      "“glm.fit: fitted probabilities numerically 0 or 1 occurred”Warning message:\n",
      "“glm.fit: fitted probabilities numerically 0 or 1 occurred”Warning message:\n",
      "“glm.fit: fitted probabilities numerically 0 or 1 occurred”Warning message:\n",
      "“glm.fit: fitted probabilities numerically 0 or 1 occurred”Warning message:\n",
      "“glm.fit: fitted probabilities numerically 0 or 1 occurred”Warning message:\n",
      "“glm.fit: fitted probabilities numerically 0 or 1 occurred”"
     ]
    },
    {
     "name": "stdout",
     "output_type": "stream",
     "text": [
      "                Df Deviance    AIC\n",
      "- Age            1   309.92 347.92\n",
      "- Debt           1   310.31 348.31\n",
      "- YearsEmployed  1   310.84 348.84\n",
      "- Ethnicity      8   325.60 349.60\n",
      "<none>               309.90 349.90\n",
      "- Employed       1   312.35 350.35\n",
      "- CreditScore    1   314.67 352.67\n",
      "- Citizen        2   320.69 356.69\n",
      "- Married        2   322.53 358.53\n",
      "- Income         1   326.96 364.96\n",
      "- PriorDefault   1   467.89 505.89\n"
     ]
    },
    {
     "name": "stderr",
     "output_type": "stream",
     "text": [
      "Warning message:\n",
      "“glm.fit: fitted probabilities numerically 0 or 1 occurred”"
     ]
    },
    {
     "name": "stdout",
     "output_type": "stream",
     "text": [
      "\n",
      "Step:  AIC=347.92\n",
      "ApprovalStatus ~ Debt + Married + Ethnicity + YearsEmployed + \n",
      "    PriorDefault + Employed + CreditScore + Citizen + Income\n",
      "\n"
     ]
    },
    {
     "name": "stderr",
     "output_type": "stream",
     "text": [
      "Warning message:\n",
      "“glm.fit: fitted probabilities numerically 0 or 1 occurred”Warning message:\n",
      "“glm.fit: fitted probabilities numerically 0 or 1 occurred”Warning message:\n",
      "“glm.fit: fitted probabilities numerically 0 or 1 occurred”Warning message:\n",
      "“glm.fit: fitted probabilities numerically 0 or 1 occurred”Warning message:\n",
      "“glm.fit: fitted probabilities numerically 0 or 1 occurred”Warning message:\n",
      "“glm.fit: fitted probabilities numerically 0 or 1 occurred”"
     ]
    },
    {
     "name": "stdout",
     "output_type": "stream",
     "text": [
      "                Df Deviance    AIC\n",
      "- Debt           1   310.32 346.32\n",
      "- YearsEmployed  1   310.87 346.87\n",
      "<none>               309.92 347.92\n",
      "- Employed       1   312.41 348.41\n",
      "- Ethnicity      8   326.55 348.55\n",
      "- CreditScore    1   314.68 350.68\n",
      "- Citizen        2   320.76 354.76\n",
      "- Married        2   322.70 356.70\n",
      "- Income         1   326.96 362.96\n",
      "- PriorDefault   1   469.85 505.85\n"
     ]
    },
    {
     "name": "stderr",
     "output_type": "stream",
     "text": [
      "Warning message:\n",
      "“glm.fit: fitted probabilities numerically 0 or 1 occurred”"
     ]
    },
    {
     "name": "stdout",
     "output_type": "stream",
     "text": [
      "\n",
      "Step:  AIC=346.32\n",
      "ApprovalStatus ~ Married + Ethnicity + YearsEmployed + PriorDefault + \n",
      "    Employed + CreditScore + Citizen + Income\n",
      "\n"
     ]
    },
    {
     "name": "stderr",
     "output_type": "stream",
     "text": [
      "Warning message:\n",
      "“glm.fit: fitted probabilities numerically 0 or 1 occurred”Warning message:\n",
      "“glm.fit: fitted probabilities numerically 0 or 1 occurred”Warning message:\n",
      "“glm.fit: fitted probabilities numerically 0 or 1 occurred”Warning message:\n",
      "“glm.fit: fitted probabilities numerically 0 or 1 occurred”Warning message:\n",
      "“glm.fit: fitted probabilities numerically 0 or 1 occurred”"
     ]
    },
    {
     "name": "stdout",
     "output_type": "stream",
     "text": [
      "                Df Deviance    AIC\n",
      "- YearsEmployed  1   311.18 345.18\n",
      "<none>               310.32 346.32\n",
      "- Employed       1   312.96 346.96\n",
      "- Ethnicity      8   327.59 347.59\n",
      "- CreditScore    1   314.84 348.84\n",
      "- Citizen        2   321.54 353.54\n",
      "- Married        2   323.22 355.22\n",
      "- Income         1   327.36 361.36\n",
      "- PriorDefault   1   472.15 506.15\n"
     ]
    },
    {
     "name": "stderr",
     "output_type": "stream",
     "text": [
      "Warning message:\n",
      "“glm.fit: fitted probabilities numerically 0 or 1 occurred”"
     ]
    },
    {
     "name": "stdout",
     "output_type": "stream",
     "text": [
      "\n",
      "Step:  AIC=345.18\n",
      "ApprovalStatus ~ Married + Ethnicity + PriorDefault + Employed + \n",
      "    CreditScore + Citizen + Income\n",
      "\n"
     ]
    },
    {
     "name": "stderr",
     "output_type": "stream",
     "text": [
      "Warning message:\n",
      "“glm.fit: fitted probabilities numerically 0 or 1 occurred”Warning message:\n",
      "“glm.fit: fitted probabilities numerically 0 or 1 occurred”Warning message:\n",
      "“glm.fit: fitted probabilities numerically 0 or 1 occurred”Warning message:\n",
      "“glm.fit: fitted probabilities numerically 0 or 1 occurred”"
     ]
    },
    {
     "name": "stdout",
     "output_type": "stream",
     "text": [
      "               Df Deviance    AIC\n",
      "<none>              311.18 345.18\n",
      "- Employed      1   313.53 345.53\n",
      "- Ethnicity     8   328.06 346.06\n",
      "- CreditScore   1   316.60 348.60\n",
      "- Citizen       2   322.24 352.24\n",
      "- Married       2   325.10 355.10\n",
      "- Income        1   327.60 359.60\n",
      "- PriorDefault  1   494.31 526.31\n"
     ]
    }
   ],
   "source": [
    "# Use the step function to simplify the model with a function\n",
    "backwards = step(logreg) # Backwards selection is the default"
   ]
  },
  {
   "cell_type": "code",
   "execution_count": 14,
   "metadata": {},
   "outputs": [
    {
     "data": {
      "text/plain": [
       "ApprovalStatus ~ Married + Ethnicity + PriorDefault + Employed + \n",
       "    CreditScore + Citizen + Income"
      ]
     },
     "metadata": {},
     "output_type": "display_data"
    },
    {
     "data": {
      "text/plain": [
       "\n",
       "Call:\n",
       "glm(formula = ApprovalStatus ~ Married + Ethnicity + PriorDefault + \n",
       "    Employed + CreditScore + Citizen + Income, family = binomial, \n",
       "    data = Train)\n",
       "\n",
       "Deviance Residuals: \n",
       "    Min       1Q   Median       3Q      Max  \n",
       "-2.3000  -0.2910  -0.1414   0.5048   3.0910  \n",
       "\n",
       "Coefficients:\n",
       "                Estimate Std. Error z value Pr(>|z|)    \n",
       "(Intercept)    1.685e+01  1.455e+03   0.012 0.990760    \n",
       "Marriedu      -2.093e+01  1.455e+03  -0.014 0.988527    \n",
       "Marriedy      -2.163e+01  1.455e+03  -0.015 0.988143    \n",
       "Ethnicitydd    9.049e-01  1.549e+00   0.584 0.559167    \n",
       "Ethnicityff   -1.293e+00  8.973e-01  -1.441 0.149453    \n",
       "Ethnicityh     9.698e-01  5.736e-01   1.691 0.090898 .  \n",
       "Ethnicityj     2.784e+00  1.241e+00   2.244 0.024843 *  \n",
       "Ethnicityn     3.097e+00  1.443e+00   2.146 0.031846 *  \n",
       "Ethnicityo    -6.358e+01  2.058e+03  -0.031 0.975360    \n",
       "Ethnicityv     7.346e-01  5.025e-01   1.462 0.143759    \n",
       "Ethnicityz    -7.631e-01  1.347e+00  -0.566 0.571091    \n",
       "PriorDefault1  4.034e+00  4.011e-01  10.058  < 2e-16 ***\n",
       "Employed1      6.206e-01  4.038e-01   1.537 0.124327    \n",
       "CreditScore    1.338e-01  6.745e-02   1.984 0.047242 *  \n",
       "Citizenp       3.339e+00  9.107e-01   3.666 0.000246 ***\n",
       "Citizens       4.880e-03  5.053e-01   0.010 0.992295    \n",
       "Income         5.895e-04  1.989e-04   2.963 0.003045 ** \n",
       "---\n",
       "Signif. codes:  0 ‘***’ 0.001 ‘**’ 0.01 ‘*’ 0.05 ‘.’ 0.1 ‘ ’ 1\n",
       "\n",
       "(Dispersion parameter for binomial family taken to be 1)\n",
       "\n",
       "    Null deviance: 710.42  on 516  degrees of freedom\n",
       "Residual deviance: 311.18  on 500  degrees of freedom\n",
       "AIC: 345.18\n",
       "\n",
       "Number of Fisher Scoring iterations: 14\n"
      ]
     },
     "metadata": {},
     "output_type": "display_data"
    }
   ],
   "source": [
    "formula(backwards)\n",
    "\n",
    "summary(backwards)"
   ]
  },
  {
   "cell_type": "code",
   "execution_count": 15,
   "metadata": {},
   "outputs": [
    {
     "data": {
      "text/plain": [
       "   \n",
       "    FALSE TRUE\n",
       "  0    79   17\n",
       "  1    10   67"
      ]
     },
     "metadata": {},
     "output_type": "display_data"
    }
   ],
   "source": [
    "# Apply the model to the test set\n",
    "backwards_predict<-predict(backwards, newdata=Test,type=\"response\")\n",
    "\n",
    "\n",
    "# Create a confusion Matrix\n",
    "table(Test$ApprovalStatus,backwards_predict>0.5)"
   ]
  },
  {
   "cell_type": "code",
   "execution_count": null,
   "metadata": {},
   "outputs": [],
   "source": []
  }
 ],
 "metadata": {
  "kernelspec": {
   "display_name": "R",
   "language": "R",
   "name": "ir"
  },
  "language_info": {
   "codemirror_mode": "r",
   "file_extension": ".r",
   "mimetype": "text/x-r-source",
   "name": "R",
   "pygments_lexer": "r",
   "version": "3.5.1"
  }
 },
 "nbformat": 4,
 "nbformat_minor": 2
}
